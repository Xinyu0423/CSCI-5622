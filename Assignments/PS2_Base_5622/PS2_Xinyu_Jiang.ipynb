{
 "cells": [
  {
   "cell_type": "markdown",
   "metadata": {},
   "source": [
    "\n",
    "\n",
    "# Problem Set 2 - Naive Bayes, Decision Trees with ensemble methods\n",
    "## CSCI 5622 - Fall 2021\n",
    "***\n",
    "**Name**: Xinyu Jiang\n",
    "***\n",
    "\n",
    "This assignment is due on Canvas by **3:55PM on October 7th**.\n",
    "\n",
    "Submit only this Jupyter notebook to Canvas. Do not compress it using tar, rar, zip, etc.\n",
    "Your solutions to analysis questions should be done in Markdown directly below the associated question.\n",
    "\n",
    "Remember that you are encouraged to discuss the problems with your classmates and instructors, \n",
    "but **you must write all code and solutions on your own**, and list any people or sources consulted.\n",
    "The only exception to this rule is that you may copy code directly from your own solution to homework 1.\n",
    "***"
   ]
  },
  {
   "cell_type": "markdown",
   "metadata": {},
   "source": [
    "## Overview \n",
    "\n",
    "Your task for this homework is to build a naive Bayes and a decision tree classifiers in the first 2 problems.\n",
    "The last problem is about ensemble methods using scikit-learn decision tree as a weak learner.\n",
    "We'll explore bagging, boosting (AdaBoost) and Random Forest."
   ]
  },
  {
   "cell_type": "code",
   "execution_count": 1,
   "metadata": {
    "pycharm": {
     "is_executing": true,
     "name": "#%%\n"
    }
   },
   "outputs": [],
   "source": [
    "import numpy as np\n",
    "import matplotlib.pylab as plt\n",
    "import pickle\n",
    "from sklearn.metrics import precision_score\n",
    "from sklearn.tree import DecisionTreeClassifier\n",
    "import pandas as pd\n",
    "from time import time\n",
    "%matplotlib inline "
   ]
  },
  {
   "cell_type": "markdown",
   "metadata": {},
   "source": [
    "### Problem 1 - Naive Bayes [25 points]\n",
    "***\n",
    "Consider the problem of predicting whether a person has a college degree based on age, salary, and Colorado residency.\n",
    "The dataset looks like the following.\n",
    "\n",
    "|Age|Salary|Colorado Residency| College degree|\n",
    "|:------:|:-----------:| :----------:|--:|\n",
    "| 27 | 41,000 | Yes | Yes |\n",
    "| 61 | 52,000 | No | No |\n",
    "| 23 | 24,000 | Yes | No |\n",
    "| 29 | 77,000 | Yes | Yes |\n",
    "| 32 | 48,000 | No | Yes |\n",
    "| 57 | 120,000 | Yes | Yes |\n",
    "| 22 | 38,000 | Yes | Yes |\n",
    "| 41 | 45,000 | Yes | No |\n",
    "| 53 | 26,000 | No | No |\n",
    "| 48 | 65,000 | Yes | Yes |\n"
   ]
  },
  {
   "cell_type": "code",
   "execution_count": 2,
   "metadata": {
    "pycharm": {
     "name": "#%%\n"
    }
   },
   "outputs": [],
   "source": [
    "features = np.array([[27 , 41000 , 1],\n",
    "              [61 , 52000 , 0],\n",
    "              [23 , 24000 , 1],\n",
    "              [29 , 77000 , 1],\n",
    "              [32 , 48000 , 0],\n",
    "              [57 , 120000 , 1],\n",
    "              [22 , 38000 , 1],\n",
    "              [41 , 45000 , 1],\n",
    "              [53 , 26000 , 0],\n",
    "              [48 , 65000 , 1]])\n",
    "labels = np.array([1, 0, 0, 1, 1, 1, 1, 0, 0, 1])"
   ]
  },
  {
   "cell_type": "markdown",
   "metadata": {
    "pycharm": {
     "name": "#%% md\n"
    }
   },
   "source": [
    "1.1 What is our expected accuracy for the baseline case where we predict one label for all rows? (*2 points*)"
   ]
  },
  {
   "cell_type": "markdown",
   "metadata": {
    "pycharm": {
     "name": "#%% md\n"
    }
   },
   "source": [
    "#BEGIN Workspace 1.1\n",
    "\n",
    "#TODO: accuracy of the baseline using no features\n",
    "\n",
    "\n",
    "Since we do not use any features and just labels with binary case. We could predict all labels the same with the labels with highest occurance rate. For example, in our case, we have six 1 labels and four 0 labels, therefore, we could predict with all 1, that case we would have accuracy of 60%. Thus, the expect accuracy is `times_labels_with_highest_occurence/length_of_lables`\n",
    "\n",
    "#END Workspace 1.1"
   ]
  },
  {
   "cell_type": "markdown",
   "metadata": {
    "pycharm": {
     "name": "#%% md\n"
    }
   },
   "source": [
    "First, we have to find a way to deal with the continuous features. For now, let's put them into binary bins based on threshold arguments to our classifier - so we can treat this as a tuning parameter.\n",
    "\n",
    "1.2 Complete `threshold_features` to convert age and salary features to binary ones using the threshold arguments. (*3 points*)"
   ]
  },
  {
   "cell_type": "code",
   "execution_count": 3,
   "metadata": {
    "pycharm": {
     "name": "#%%\n"
    }
   },
   "outputs": [],
   "source": [
    "def threshold_features(features, age_threshold, salary_threshold):\n",
    "    binary_features = features * 1 #This row just creates a \"hard copy\" of the X array so we can manipulate it as needed\n",
    "\n",
    "    #BEGIN Workspace 1.2\n",
    "    #TODO: Threshold the corresponding features\n",
    "    for i in range(len(features)):\n",
    "        if binary_features[i][0]>=age_threshold:\n",
    "            binary_features[i][0]=1\n",
    "        else:\n",
    "            binary_features[i][0]=0\n",
    "        if binary_features[i][1]>=salary_threshold:\n",
    "            binary_features[i][1]=1\n",
    "        else:\n",
    "            binary_features[i][1]=0\n",
    "    return binary_features\n",
    "    #END Workspace 1.2\n",
    "    "
   ]
  },
  {
   "cell_type": "code",
   "execution_count": 4,
   "metadata": {},
   "outputs": [],
   "source": [
    "X = threshold_features(features, 30, 40000)"
   ]
  },
  {
   "cell_type": "markdown",
   "metadata": {
    "pycharm": {
     "name": "#%% md\n"
    }
   },
   "source": [
    "As seen during the class, given a row $(x_1, x_2, x_3)$, the naive Bayes classifier should assign the label $y$ that\n",
    "maximizes:\n",
    "\n",
    "\\begin{align}\n",
    "\\log [p(y) \\prod_i p(x_i | y)] = \\log p(y) + \\sum_{i} \\log p(x_i | y)\n",
    "\\end{align}\n",
    "\n",
    "$p(y)$ and $p(x_i | y)$ are computed using the training set (during `fit` call).\n",
    "\n",
    "We have defined $p(x_i | y)$ as :\n",
    "\\begin{align}\n",
    "p(x_i | y) = \\frac{N_{y,i}}{N_y}\n",
    "\\end{align}\n",
    "where $N_{y,i}$ is the number of rows where $y$ and $x_i$ occur together, and $N_y = \\sum_i N_{y,i}$.\n",
    "\n",
    "1.3 Complete the `fit` call by computing the counts and joint counts. Hint: Use `features_counts` to store the contingency\n",
    "table $N_{y,i}$ for each feature $i$ and then use them to compute $\\log p(x_i | y)$ (*10 points*)\n",
    "\n",
    "1.4 Complete the `predict` call (*5 points*)"
   ]
  },
  {
   "cell_type": "code",
   "execution_count": 5,
   "metadata": {
    "pycharm": {
     "name": "#%%\n"
    }
   },
   "outputs": [],
   "source": [
    "class NaiveBayes(object):\n",
    "    \"\"\"\n",
    "    NaiveBayes classifier for binary features and binary labels\n",
    "    \"\"\"\n",
    "\n",
    "    def __init__(self, alpha=0.0):\n",
    "        self.alpha = alpha\n",
    "        self.classes_counts = None\n",
    "        self.features_counts = []\n",
    "        self.classes_log_probabilities = None\n",
    "        self.features_log_probabilities = [] # same structure as features_count\n",
    "\n",
    "    def fit(self, X, y):\n",
    "        \"\"\"\n",
    "\n",
    "        Parameters\n",
    "        ----------\n",
    "        X: binary np.array of shape (n_samples, n_features)\n",
    "        y: corresponding labels of shape (n_samples,)\n",
    "        Returns\n",
    "        -------\n",
    "        Trained classifier\n",
    "        \"\"\"\n",
    "\n",
    "        #BEGIN Workspace 1.3\n",
    "\n",
    "        #TODO: Compute the counts and joint counts\n",
    "        self.alpha = 1  # Laplace Smooth\n",
    "        class_set = set(y)\n",
    "        self.classes_counts = np.array([len(y[y == i]) for i in range(len(class_set))])\n",
    "        self.features_counts = [[] for i in range(len(class_set))]\n",
    "        #print(self.features_counts)\n",
    "        num_examples, num_features, num_classes = X.shape[0], X.shape[1], len(class_set)\n",
    "        \n",
    "        self.features_log_probabilities = [[[] for j in range(num_features)] for i in range(num_classes)]\n",
    "        for i in range(num_classes):\n",
    "            temp_feature = X[y == i]\n",
    "            for j in range(num_features):\n",
    "                temp_list = []\n",
    "                temp_list.append(len(temp_feature[temp_feature[:, j] == 0]))\n",
    "                temp_list.append(len(temp_feature[temp_feature[:, j] == 1]))\n",
    "                self.features_log_probabilities[i][j] = [\n",
    "                    np.log((temp_list[t] + self.alpha) / (sum(temp_list) + num_classes)) for t in range(2)]\n",
    "                self.features_counts[i].append(temp_list)\n",
    "        self.classes_log_probabilities = [np.log(self.classes_counts[i] / num_examples) for i in range(num_classes)]\n",
    "\n",
    "\n",
    "        #END Workspace 1.3\n",
    "        \n",
    "        return self\n",
    "\n",
    "    def predict(self, x_test):\n",
    "        joint_log_likelihood = np.zeros((x_test.shape[0], self.classes_counts.shape[0]))\n",
    "        y_hat = []\n",
    "        #BEGIN Workspace 1.4\n",
    "        #TODO: Find the corresponding labels using Naive bayes logic\n",
    "        for i in range(x_test.shape[0]):\n",
    "            max_value, max_index = -10 ** 9, -1\n",
    "            for j in range(self.classes_counts.shape[0]):\n",
    "                p = self.classes_log_probabilities[j]\n",
    "                for k in range(x_test.shape[1] - 1):\n",
    "                    p += self.features_log_probabilities[j][k][x_test[i][k]]\n",
    "                joint_log_likelihood[i][j] = p\n",
    "                if max_value < joint_log_likelihood[i][j]:\n",
    "                    max_value = joint_log_likelihood[i][j]\n",
    "                    max_index = j\n",
    "            y_hat.append(max_index)\n",
    "        #END Workspace 1.4\n",
    "        return y_hat\n"
   ]
  },
  {
   "cell_type": "markdown",
   "metadata": {
    "pycharm": {
     "name": "#%% md\n"
    }
   },
   "source": [
    "1.5 Using age 30 and salary 40,000 as thresholds, transform the features and evaluate (accuracy) the NaiveBayes classifier\n",
    "on the training data. (*5 points*)"
   ]
  },
  {
   "cell_type": "code",
   "execution_count": 6,
   "metadata": {
    "pycharm": {
     "name": "#%%\n"
    }
   },
   "outputs": [
    {
     "name": "stdout",
     "output_type": "stream",
     "text": [
      "The accuracy for naive bayes is 0.7\n"
     ]
    }
   ],
   "source": [
    "clf = NaiveBayes(3)\n",
    "#BEGIN Workspace 1.5\n",
    "#TODO: Transform features to binary features, fit the classifier, report the accuracy\n",
    "\n",
    "#END Workspace 1.5\n",
    "clf.fit(X, labels)\n",
    "predict = clf.predict(X)\n",
    "right_num = 0\n",
    "for i in range(len(labels)):\n",
    "    if labels[i] == predict[i]:\n",
    "        right_num += 1\n",
    "    \n",
    "naive_acc=right_num / len(X)\n",
    "print(\"The accuracy for naive bayes is\",naive_acc)\n"
   ]
  },
  {
   "cell_type": "markdown",
   "metadata": {
    "pycharm": {
     "name": "#%% md\n"
    }
   },
   "source": [
    "**Bonus question** 1.6 Use the attribute `alpha` of the NaiveBayes to convert it to the smoothed NaiveBayes presented during the class. (*5 points*)"
   ]
  },
  {
   "cell_type": "code",
   "execution_count": 7,
   "metadata": {},
   "outputs": [],
   "source": [
    "##The smoothing added in the code above"
   ]
  },
  {
   "cell_type": "markdown",
   "metadata": {
    "pycharm": {
     "name": "#%% md\n"
    }
   },
   "source": [
    "### Problem 2 - Decision trees [25 points]\n",
    "***\n",
    "The goal of this problem is to implement the core elements of the Decision Tree classifier.\n",
    "We do not expect a highly efficient implementation of the functions since the ensemble methods will use the implementation\n",
    "from scikit-learn."
   ]
  },
  {
   "cell_type": "markdown",
   "metadata": {},
   "source": [
    "We start by considering the variable *Colorado residency*.\n",
    "\n",
    "The leaf nodes of a decision tree act in the same way as in question (1.1) where no feature is used.\n",
    "\n",
    "2.1 Complete `get_error_in_leaf` to return the count of misclassified instances. (*3 points*)"
   ]
  },
  {
   "cell_type": "code",
   "execution_count": 8,
   "metadata": {
    "pycharm": {
     "name": "#%%\n"
    }
   },
   "outputs": [],
   "source": [
    "def get_error_in_leaf(y, indices):\n",
    "    \"\"\"\n",
    "    :param y: all labels\n",
    "    :param indices: the subset of indexes in the leaf node\n",
    "    :return: Returns the number of errors in a leaf node of a decision tree.\n",
    "    \"\"\"\n",
    "\n",
    "    error_count = 0\n",
    "    #BEGIN Workspace 2.1\n",
    "    #TODO: Compute the number of errors in the leaf node (no feature is used)\n",
    "    x1,x2=np.unique(y[indices],return_counts=True)\n",
    "    error_count=min(x2)\n",
    "    return error_count\n",
    "    \n",
    "    #END Workspace 2.1\n",
    "\n",
    "def value_split_binary_feature(x, y, feature_index, root, criteria_func):\n",
    "    \"\"\"Will be used later to evaluate the criteria gain\"\"\"\n",
    "    left_child = [i for i in root if x[i, feature_index] == 0]\n",
    "    right_child = [i for i in root if x[i, feature_index] == 1]\n",
    "    return criteria_func(y, root, left_child, right_child)\n"
   ]
  },
  {
   "cell_type": "markdown",
   "metadata": {},
   "source": [
    "We will use information gain criteria to decide how to split the root node of our decision tree.\n",
    "\n",
    "2.2 Complete the `entropy` function. (*5 points*)\n",
    "\n",
    "2.3 Complete the `information_gain_criteria` to compute the information gained by splitting the root node.\n",
    " Print the gain value for splitting based on *Colorado residency* (*5 points*)\n"
   ]
  },
  {
   "cell_type": "code",
   "execution_count": 9,
   "metadata": {
    "pycharm": {
     "name": "#%%\n"
    }
   },
   "outputs": [],
   "source": [
    "def entropy(y, indices):\n",
    "    \"\"\"\n",
    "    :param y: all labels\n",
    "    :param indices: the indices of data points\n",
    "    :return: Returns the entropy in the labels for the data points in indices.\n",
    "    \"\"\"\n",
    "    entropy_value = 0\n",
    "    if len(indices) == 0: # deal with corner case when there is no data point.\n",
    "        return entropy_value\n",
    "    else:\n",
    "        #BEGIN Workspace 2.2\n",
    "        #TODO: Compute the entropy of the labels from indices\n",
    "        x1,x2=np.unique(y[indices], return_counts=True)\n",
    "        if len(x2)>1:\n",
    "            p1=x2[0]/len(indices)\n",
    "            p2=x2[1]/len(indices)\n",
    "            entropy_value=-p1*np.log2(p1)-p2*np.log2(p2)\n",
    "        else:\n",
    "            p1=x2[0]/len(indices)\n",
    "            entropy_value=-p1*np.log2(p1)\n",
    "        pass\n",
    "        #END Workspace 2.2\n",
    "    return entropy_value\n",
    "\n",
    "def information_gain_criteria(y, root, left_child, right_child):\n",
    "    \"\"\"\n",
    "    :param y: all labels\n",
    "    :param root: indices of all the data points in the root\n",
    "    :param left_child: the subset of indices in the left child\n",
    "    :param right_child: the subset of indices in the right child\n",
    "    :return: information gain of the split\n",
    "    \"\"\"\n",
    "    information_gain = 0\n",
    "    #BEGIN Workspace 2.3.a\n",
    "    #TODO: Compute the information gain of the split\n",
    "    I_par=entropy(y,root)\n",
    "    I_left=(len(left_child)/len(root))*entropy(y,left_child)\n",
    "    I_right=(len(right_child)/len(root))*entropy(y,right_child)\n",
    "    information_gain=I_par-I_left-I_right\n",
    "    #END Workspace 2.3.a\n",
    "    return information_gain"
   ]
  },
  {
   "cell_type": "code",
   "execution_count": 10,
   "metadata": {
    "pycharm": {
     "name": "#%%\n"
    }
   },
   "outputs": [
    {
     "name": "stdout",
     "output_type": "stream",
     "text": [
      "The information gain for feature_id = 2 is 0.0912774462416801\n"
     ]
    }
   ],
   "source": [
    "feature_id = 2\n",
    "info_gain = 0\n",
    "#BEGIN Workspace 2.3.b\n",
    "#TODO: report the information gain of the split based on Colorado Residency\n",
    "root=list(i for i in range(len(labels)))\n",
    "info_gain=value_split_binary_feature(X,labels,feature_id,root,information_gain_criteria)\n",
    "print(\"The information gain for feature_id = 2 is\",info_gain)\n",
    "a=[1,4,8]\n",
    "x1,x2=np.unique(labels[a], return_counts=True)\n",
    "#END Workspace 2.3.b"
   ]
  },
  {
   "cell_type": "markdown",
   "metadata": {},
   "source": [
    "Now we have to deal with continuous features for the decision tree.\n",
    "One way to deal with continuous (or ordinal) data is to define binary features based on thresholding as we've done\n",
    "for NaiveBayes. But we have to find the optimal threshold based on the criteria we're using.\n",
    "\n",
    "2.4 Complete the `value_split_continuous_feature` by trying different possible threshold values of feature\n",
    "of index `feature_index` and return the best criteria value and threshold. (*5 points*)"
   ]
  },
  {
   "cell_type": "code",
   "execution_count": 11,
   "metadata": {
    "pycharm": {
     "name": "#%%\n"
    }
   },
   "outputs": [],
   "source": [
    "def value_split_continuous_feature(x, y, feature_index, root, criteria_func=information_gain_criteria):\n",
    "    \"\"\"\n",
    "    :param x: all feature values\n",
    "    :param y: all labels\n",
    "    :param feature_index: feature id to split the tree based on\n",
    "    :param root: indexes of all the data points in the root\n",
    "    :param criteria_func: the splitting criteria function\n",
    "    :return: Return the best value and its corresponding threshold by splitting based on a continuous feature.\n",
    "    \"\"\"\n",
    "\n",
    "    best_value, best_thres = 0, 0\n",
    "\n",
    "    #BEGIN Workspace 2.4\n",
    "    #TODO: Complete the function as detailed in the question and function description\n",
    "    temp_thre=[]\n",
    "    #print(\"root=\",root)\n",
    "    for i in root:\n",
    "        temp_thre.append(np.unique(x[i,feature_index])[0])\n",
    "    #print(\"temp_thre\",temp_thre)\n",
    "    for threshold in temp_thre:\n",
    "        left_child = [i for i in root if x[i, feature_index] <=threshold]\n",
    "        right_child = [i for i in root if x[i, feature_index] >threshold]\n",
    "        info_gain=criteria_func(y,root,left_child,right_child)\n",
    "        if info_gain>best_value:\n",
    "            best_value=info_gain\n",
    "            best_thres=threshold\n",
    "    #END Workspace 2.4\n",
    "\n",
    "    return best_value, best_thres\n"
   ]
  },
  {
   "cell_type": "markdown",
   "metadata": {
    "pycharm": {
     "name": "#%% md\n"
    }
   },
   "source": [
    "2.5 Find the best thresholds for age and salary. Print their corresponding information gains. (*5 points*)"
   ]
  },
  {
   "cell_type": "code",
   "execution_count": 12,
   "metadata": {
    "pycharm": {
     "name": "#%%\n"
    }
   },
   "outputs": [
    {
     "name": "stdout",
     "output_type": "stream",
     "text": [
      "---------------------Age----------------------\n",
      "The best criteria value and threshold for age are 0.1444843438056279 57\n",
      "---------------------Salary----------------------\n",
      "The best criteria value and threshold for salary are 0.3219280948873623 26000\n",
      "---------------------Colorado residence----------------------\n",
      "The best criteria value and threshold for Colorado residence are 0.0912774462416801 0\n"
     ]
    }
   ],
   "source": [
    "root = list(range(len(labels))) # root includes all data points\n",
    "#BEGIN Workspace 2.5\n",
    "#TODO: Report the best thresholds for age and salary and their split information gains\n",
    "featureList=[0,1,2]\n",
    "for i in featureList:\n",
    "    if i==0:\n",
    "        print(\"---------------------Age----------------------\")\n",
    "        best_value, best_thres=value_split_continuous_feature(features,labels,i,root,information_gain_criteria)\n",
    "        print(\"The best criteria value and threshold for age are\",best_value,best_thres)\n",
    "    if i==1:\n",
    "        print(\"---------------------Salary----------------------\")\n",
    "        best_value, best_thres=value_split_continuous_feature(features,labels,i,root,information_gain_criteria)\n",
    "        print(\"The best criteria value and threshold for salary are\",best_value,best_thres)\n",
    "    if i==2:\n",
    "        print(\"---------------------Colorado residence----------------------\")\n",
    "        best_value, best_thres=value_split_continuous_feature(features,labels,i,root,information_gain_criteria)\n",
    "        print(\"The best criteria value and threshold for Colorado residence are\",best_value,best_thres)\n",
    "#END Workspace 2.5"
   ]
  },
  {
   "cell_type": "markdown",
   "metadata": {},
   "source": [
    "2.6 Based on the obtained information gains, if we build a decision stump (decision tree with depth 1) greedily,\n",
    "which feature should we choose? Why? What's the resulting accuracy? (*2 points*)"
   ]
  },
  {
   "cell_type": "markdown",
   "metadata": {
    "pycharm": {
     "name": "#%% md\n"
    }
   },
   "source": [
    "#BEGIN Workspace 2.6.a\n",
    "\n",
    "#TODO: Which feature should we pick for the decision stump? Why?\n",
    "\n",
    "Since we are using greedy algrithm to choose the decision stump, we are going to choose feature with highest information gain value. Base on the code above, the feature has highest information gain is `Salary`. Therefore, we are going to choose the `Salary` feature.\n",
    "#END Workspace 2.6.a"
   ]
  },
  {
   "cell_type": "code",
   "execution_count": 13,
   "metadata": {
    "pycharm": {
     "name": "#%%\n"
    }
   },
   "outputs": [
    {
     "name": "stdout",
     "output_type": "stream",
     "text": [
      "The accuracy by choosing salary is 0.9\n"
     ]
    }
   ],
   "source": [
    "#BEGIN Workspace 2.6.b\n",
    "#TODO: Split based on the chosen feature and compute the accuracy (use get_error_in_leaf)\n",
    "root = list(range(len(labels))) # root includes all data points\n",
    "salaryBelow=[]\n",
    "salaryAbove=[]\n",
    "for i in range(len(features)):\n",
    "    if features[i][1]<=26000:\n",
    "        salaryBelow.append(i)\n",
    "    else:\n",
    "        salaryAbove.append(i)\n",
    "\n",
    "error=get_error_in_leaf(features,salaryAbove)\n",
    "acc=(len(labels)-error)/len(labels)\n",
    "print(\"The accuracy by choosing salary is\",acc)\n",
    "#BEGIN Workspace 2.6.b"
   ]
  },
  {
   "cell_type": "markdown",
   "metadata": {},
   "source": [
    "**Bonus Question**\n",
    "\n",
    "2.7 You now have all the ingredients to build a decision tree recursively.\n",
    "You can build a decision tree of depth two and report its classification error on the training data and the tree.(*5 points*)"
   ]
  },
  {
   "cell_type": "code",
   "execution_count": 14,
   "metadata": {
    "pycharm": {
     "name": "#%%\n"
    }
   },
   "outputs": [],
   "source": [
    "#BEGIN Workspace 2.7\n",
    "#TODO: Build a Decision Tree of Depth 2 using age, salary and the previously computed thresholds\n",
    "\n",
    "\n",
    "#END Workspace 2.7"
   ]
  },
  {
   "cell_type": "markdown",
   "metadata": {},
   "source": [
    "Problem 3  - Decision Tree Ensembles: Bagging and Boosting [50 points]\n",
    "---\n",
    "\n",
    "We are going to predict house price levels using decision tree ensembles.\n",
    "\n",
    "In this classification problem, we compare Decision trees and it's ensembles - Bagging and Boosting on House Price prediction [dataset](https://www.kaggle.com/c/house-prices-advanced-regression-techniques/data)\n",
    "\n",
    "Our *weak learner* for this problem is the DecisionTreeClassifier from scikit-learn with `max_depth=10`.\n",
    "\n",
    "We start first by loading preprocessed data that we'll use. Since the original data is for regression, we have first to transform\n",
    "`y_train` and `y_test` to discrete values reflecting price level.\n",
    "\n",
    "|Price range| Label|\n",
    "|:----------:|--:|\n",
    "| $ P < $125000|0|\n",
    "|125000$\\leq P < $ 160000| 1 |\n",
    "|160000$ \\leq P < $ 200000| 2 |\n",
    "|200000$ \\leq P $ | 3 |\n",
    "\n",
    "3.1 Start by transforming`y_train` and `y_test` to discrete values using the provided ranges. (*3 points*)"
   ]
  },
  {
   "cell_type": "code",
   "execution_count": 15,
   "metadata": {
    "pycharm": {
     "name": "#%%\n"
    }
   },
   "outputs": [
    {
     "name": "stdout",
     "output_type": "stream",
     "text": [
      "[0 1 2 3] (1166, 79)\n",
      "[0 1 2 3] (292, 79)\n"
     ]
    }
   ],
   "source": [
    "X_train, X_test, y_train, y_test = pickle.load(open('./data/test_train.pkl','rb'))\n",
    "#BEGIN Workspace 3.1\n",
    "#TODO: Discretize y_train and y_test\n",
    "for i in range(len(y_train)):\n",
    "    if y_train[i]<125000:\n",
    "        y_train[i]=0\n",
    "    elif y_train[i]>=125000 and y_train[i]<160000:\n",
    "        y_train[i]=1\n",
    "    elif y_train[i]>=160000 and y_train[i]<200000:\n",
    "        y_train[i]=2\n",
    "    elif y_train[i]>=200000:\n",
    "        y_train[i]=3\n",
    "\n",
    "for i in range(len(y_test)):\n",
    "    if y_test[i]<125000:\n",
    "        y_test[i]=0\n",
    "    elif y_test[i]>=125000 and y_test[i]<160000:\n",
    "        y_test[i]=1\n",
    "    elif y_test[i]>=160000 and y_test[i]<200000:\n",
    "        y_test[i]=2\n",
    "    elif y_test[i]>=200000:\n",
    "        y_test[i]=3\n",
    "        \n",
    "        \n",
    "#END Workspace 3.1\n",
    "print(np.unique(y_train), X_train.shape)\n",
    "print(np.unique(y_test), X_test.shape)"
   ]
  },
  {
   "cell_type": "markdown",
   "metadata": {
    "pycharm": {
     "name": "#%% md\n"
    }
   },
   "source": [
    "3.2 Complete the `ensemble_test` class to `fit` the model received as parameter and store the metrics and running time. (*5 points*)\n",
    "\n",
    "3.3 Complete `plot_metric` to show and compare different statistics of each model in a bar chart. (*5 points*)\n",
    "\n",
    "Later we will also use `ensemble_test` class to plot score, metric and time taken to fit the data."
   ]
  },
  {
   "cell_type": "code",
   "execution_count": 16,
   "metadata": {
    "pycharm": {
     "name": "#%%\n"
    }
   },
   "outputs": [],
   "source": [
    "def get_weak_learner():\n",
    "    \"\"\"Return a new instance of our chosen weak learner\"\"\"\n",
    "    return DecisionTreeClassifier(max_depth=10)\n",
    "\n",
    "class EnsembleTest:\n",
    "    \"\"\"\n",
    "        Test multiple model performance\n",
    "    \"\"\"\n",
    "\n",
    "    def __init__(self, x_train, y_train, x_test, y_test):\n",
    "        \"\"\"\n",
    "        initialize data partitions\n",
    "        \"\"\"\n",
    "        self.scores = {}\n",
    "        self.execution_time = {}\n",
    "        self.metric = {}\n",
    "        self.x_train = X_train\n",
    "        self.y_train = y_train\n",
    "        self.x_test = X_test\n",
    "        self.y_test = y_test\n",
    "        self.score_name ='Mean accuracy'\n",
    "        self.metric_name = 'Precision(micro)'\n",
    "\n",
    "    def fit_model(self, model, name):\n",
    "        \"\"\"\n",
    "        Fit the model on train data.\n",
    "        predict on test and store score and execution time for each fit.\n",
    "        :param model: model\n",
    "        :param name: name of model\n",
    "        \"\"\"\n",
    "        start = time()\n",
    "        #BEGIN Workspace 3.2\n",
    "        #TODO: Fit the model and get the predictions\n",
    "        #       train and test data are treated as global variables\n",
    "        model.fit(X_train,y_train)\n",
    "        y_pred = model.predict(X_test)\n",
    "        #print(\"y_pred=\",y_pred)\n",
    "        correct_predict=0\n",
    "        for i in range(len(y_pred)):\n",
    "            if y_pred[i]==y_test[i]:\n",
    "                correct_predict+=1\n",
    "        Accuracy=correct_predict/len(y_pred)\n",
    "        self.scores[name] = Accuracy\n",
    "        self.metric[name] = precision_score(y_test,y_pred,average=\"micro\")\n",
    "        \n",
    "        #Hint: self.scores[name] = precision_score(?, average=\"micro\") # in multi-class, micro implies treating it as binary precision\n",
    "        #Hint self.metric[name] = Accuracy\n",
    "        #END Workspace 3.2\n",
    "        self.execution_time[name] = time() - start\n",
    "\n",
    "    def print_result(self):\n",
    "        \"\"\"\n",
    "            print results for all models trained and tested.\n",
    "        \"\"\"\n",
    "        models_cross = pd.DataFrame({\n",
    "            'Model'         : list(self.metric.keys()),\n",
    "             self.score_name     : list(self.scores.values()),\n",
    "             self.metric_name    : list(self.metric.values()),\n",
    "            'Execution time': list(self.execution_time.values())})\n",
    "        print(models_cross.sort_values(by=self.score_name, ascending=False))\n",
    "\n",
    "    def plot_metric(self):\n",
    "        #BEGIN Workspace 3.3\n",
    "        #TODO: plot bar chart for each metric : time, metric, score\n",
    "        score_key=list(self.scores.keys())\n",
    "        score_value=list(self.scores.values())\n",
    "        time_key=list(self.execution_time.keys())\n",
    "        time_value=list(self.execution_time.values())\n",
    "        metric_key=list(self.metric.keys())\n",
    "        metric_value=list(self.metric.values())\n",
    "        plt.bar(score_key,score_value,label=\"score\")\n",
    "        plt.title(\"Score\")\n",
    "        plt.show()\n",
    "        plt.bar(time_key,time_value,label=\"time\")\n",
    "        plt.title(\"Time\")\n",
    "        plt.show()\n",
    "        plt.bar(metric_key,metric_value,label=\"mertic\")\n",
    "        plt.title(\"metric\")\n",
    "        plt.show()\n",
    "        \n",
    "        \n",
    "        print(\"score=\",self.scores)\n",
    "        print(\"time=\",self.execution_time)\n",
    "        print(\"metric=\",self.metric)\n",
    "        pass\n",
    "        #END Workspace 3.3"
   ]
  },
  {
   "cell_type": "markdown",
   "metadata": {
    "pycharm": {
     "name": "#%% md\n"
    }
   },
   "source": [
    "3.4 Test `EnsembleTest` using our weak learner returned by `get_weak_learner` (*2 points*)"
   ]
  },
  {
   "cell_type": "code",
   "execution_count": 17,
   "metadata": {
    "pycharm": {
     "name": "#%%\n"
    }
   },
   "outputs": [
    {
     "name": "stdout",
     "output_type": "stream",
     "text": [
      "              Model  Mean accuracy  Precision(micro)  Execution time\n",
      "0  get_weak_learner       0.681507          0.681507        0.029061\n"
     ]
    }
   ],
   "source": [
    "# create a handler for ensemble_test, use the created handler for fitting different models.\n",
    "ensemble_handler = EnsembleTest(X_train,y_train,X_test,y_test)\n",
    "#BEGIN Workspace 3.4\n",
    "#TODO: Initialize weak learner and fit ensemble_handler\n",
    "model = get_weak_learner()\n",
    "ensemble_handler.fit_model(model, 'get_weak_learner')\n",
    "#ensemble_handler.plot_metric()\n",
    "#END Workspace 3.4\n",
    "ensemble_handler.print_result()"
   ]
  },
  {
   "cell_type": "markdown",
   "metadata": {},
   "source": [
    "**Bagging:**\n",
    "\n",
    "Bagging consists of training a set of weak learners using random subsets of the train data.\n",
    "\n",
    "3.5 First, complete `sample_data` to return a random sample of size `sample_ratio * len(X_train)` of features and labels (*2 points*)\n",
    "\n",
    "3.6 Complete `fit` by building `n_estimators` of DecisionTreeClassifier, each trained on random sample of the data (*5 points*)\n",
    "\n",
    "3.7 Complete `predict` method to return the most likely label by combining different estimators predictions. \n",
    "Use a simple majority / plurality vote system similar to the one used in your KNNClassifier in Problem Set 1. However, in this case, to break a tie you should use `predict_log_proba` or `predict_proba` method of DecisionTreeClassifier:\n",
    "[Documentation](https://scikit-learn.org/stable/modules/generated/sklearn.tree.DecisionTreeClassifier.html#sklearn.tree.DecisionTreeClassifier.predict_proba) (*2 points*)"
   ]
  },
  {
   "cell_type": "code",
   "execution_count": 18,
   "metadata": {
    "pycharm": {
     "name": "#%%\n"
    }
   },
   "outputs": [],
   "source": [
    "import random\n",
    "from collections import Counter\n",
    "class BaggingEnsemble(object):\n",
    "\n",
    "    def __init__(self, n_estimators, sample_ratio):\n",
    "        self.n_estimators = n_estimators\n",
    "        self.sample_ratio = sample_ratio\n",
    "        self.estimators = []\n",
    "\n",
    "    def sample_data(self, x_train, y_train):\n",
    "        \n",
    "        x_sample, y_sample = None, None\n",
    "        #BEGIN Workspace 3.5\n",
    "        #TODO: sample random subset of size sample_ratio * len(X_train)\n",
    "        x_train_index = []\n",
    "        y_sample_label = []\n",
    "        for x in range(len(x_train)):\n",
    "            x_train_index.append(x)\n",
    "        test_index = random.sample(x_train_index, int(self.sample_ratio * len(x_train)))\n",
    "        test = []\n",
    "        for x in test_index:\n",
    "            test.append(x_train[x])\n",
    "            y_sample_label.append(y_train[x])\n",
    "        x_sample = test\n",
    "        y_sample = y_sample_label\n",
    "        #END Workspace 3.5\n",
    "        return x_sample, y_sample\n",
    "\n",
    "    def fit(self, x_train, y_train):\n",
    "        for _ in range(self.n_estimators):\n",
    "            #BEGIN Workspace 3.6\n",
    "            #TODO: sample data and create new weak learned trained on the sample\n",
    "            x_sample, y_sample = self.sample_data(x_train, y_train)\n",
    "            bag=get_weak_learner()\n",
    "            bag.fit(x_sample,y_sample)\n",
    "            self.estimators.append(bag)\n",
    "            pass\n",
    "            #END Workspace 3.6\n",
    "\n",
    "    def predict(self, X_test):\n",
    "        predicted_proba = [[0 for x in range(4)] for y in range(len(y_test))]\n",
    "        answer = []\n",
    "        #BEGIN Workspace 3.7\n",
    "        #TODO: go through the trained estimators and accumulate their predicted_proba to get the mostly likely label\n",
    "        temp_label=[[None for x in range(len(y_test))] for y in range(len(self.estimators))]\n",
    "        temp_label_index=0\n",
    "        position_label=[[None for x in range(len(self.estimators))] for y in range(len(y_test))]\n",
    "        \n",
    "        predict_proba_list=[[None for x in range(len(y_test))] for y in range(4)]\n",
    "        temp_proba_index=0\n",
    "        \n",
    "        for i in self.estimators:\n",
    "            pred_list=i.predict(X_test)\n",
    "            temp_label[temp_label_index]=pred_list\n",
    "            temp_label_index+=1\n",
    "\n",
    "        for i in range(len(position_label)):\n",
    "            for j in range(len(position_label[0])):\n",
    "                position_label[i][j]=temp_label[j][i]\n",
    "        \n",
    "        \n",
    "        for i in self.estimators:\n",
    "            predicted_proba+=i.predict_proba(X_test)\n",
    "        \n",
    "        \n",
    "        tieList=[]\n",
    "        for i in range(len(position_label)):\n",
    "            tempCount=Counter(position_label[i])\n",
    "            tempMax=max(tempCount.values())\n",
    "            tempList=[]\n",
    "            for j in tempCount:\n",
    "                if tempCount[j]==tempMax:\n",
    "                    tempList.append(j)\n",
    "            if len(tempList)>1:\n",
    "                tieList.append(i)\n",
    "                temp_pred_proba=predicted_proba[i]\n",
    "                temp_index=0\n",
    "                for j in range(len(temp_pred_proba)):\n",
    "                    if temp_pred_proba[j]>temp_pred_proba[temp_index]:\n",
    "                        temp_index=j\n",
    "                answer.append(temp_index)\n",
    "            else:\n",
    "                answer.append(tempList[0])\n",
    "        #print(answer)\n",
    "        pass\n",
    "        #END Workspace 3.7\n",
    "        return answer\n"
   ]
  },
  {
   "cell_type": "code",
   "execution_count": 19,
   "metadata": {
    "pycharm": {
     "name": "#%%\n"
    },
    "scrolled": true
   },
   "outputs": [
    {
     "name": "stdout",
     "output_type": "stream",
     "text": [
      "              Model  Mean accuracy  Precision(micro)  Execution time\n",
      "1           Bagging       0.726027          0.726027        0.185253\n",
      "0  get_weak_learner       0.681507          0.681507        0.029061\n"
     ]
    }
   ],
   "source": [
    "# This cell should run without errors\n",
    "ensemble_handler.fit_model(BaggingEnsemble(10, 0.9),'Bagging')\n",
    "ensemble_handler.print_result()\n"
   ]
  },
  {
   "cell_type": "markdown",
   "metadata": {
    "pycharm": {
     "name": "#%% md\n"
    }
   },
   "source": [
    "**Random Forest**\n",
    "Random Forest has an additional layer of randomness compared to Bagging: we also sample a random subset of the features.\n",
    "\n",
    "3.8 First, complete `sample_data` to return a random sample of size `sample_ratio * len(X_train)` of labels and `feature_ratio * num_features` of features (*2 points*)\n",
    "\n",
    "3.9 Complete `fit` by building `n_estimators` of DecisionTreeClassifier, each trained on random sample of the data.\n",
    "Make sure to keep track of the sampled features for each estimator to use them in the prediction step. (*5 points*)\n",
    "\n",
    "3.10 Complete `predict` method to return the most likely label by combining different estimators predictions.\n",
    "Use a simple majority / plurality vote system similar to the one used in your KNNClassifier in Problem Set 1. However, in this case, to break a tie you should use `predict_log_proba` or `predict_proba`  method of DecisionTreeClassifier:\n",
    "[Documentation](https://scikit-learn.org/stable/modules/generated/sklearn.tree.DecisionTreeClassifier.html#sklearn.tree.DecisionTreeClassifier.predict_proba) (*3 points*)\n"
   ]
  },
  {
   "cell_type": "code",
   "execution_count": 20,
   "metadata": {
    "pycharm": {
     "name": "#%%\n"
    }
   },
   "outputs": [],
   "source": [
    "class RandomForest(object):\n",
    "\n",
    "    def __init__(self, n_estimators, sample_ratio, features_ratio):\n",
    "        self.n_estimators = n_estimators\n",
    "        self.sample_ratio = sample_ratio\n",
    "        self.features_ratio = features_ratio\n",
    "        self.estimators = []\n",
    "        self.features_indices = []\n",
    "\n",
    "    def sample_data(self, x_train, y_train):\n",
    "        X_sample, y_sample, features_indices = None, None, None\n",
    "        #BEGIN Workspace 3.8\n",
    "        #TODO: sample random subset of size sample_ratio * len(X_train) and subset of features of size\n",
    "        #         features_ratio * num_features\n",
    "        x_train_index = []\n",
    "        y_sample_label = []\n",
    "        test_index = random.sample(list(range(len(x_train))), int(self.sample_ratio * len(x_train)))\n",
    "        num_features=len(x_train[0])\n",
    "        features_indices=np.random.choice(np.arange(num_features), int(self.features_ratio * num_features),replace=False)\n",
    "        testx=[[x_train[i][j] for j in features_indices] for i in test_index]\n",
    "        testy=[y_train[i] for i in test_index]\n",
    "        x_sample=testx\n",
    "        y_sample=testy\n",
    "        #END Workspace 3.8\n",
    "        return x_sample, y_sample, features_indices\n",
    "\n",
    "    def fit(self, x_train, y_train):\n",
    "        for _ in range(self.n_estimators):\n",
    "            #BEGIN Workspace 3.9\n",
    "            #TODO: sample data with random subset of rows and features using sample_data\n",
    "            #Hint: keep track of the features indices in features_indices to use in predict\n",
    "            x_sample, y_sample, feature_indices = self.sample_data(x_train, y_train)\n",
    "            bag=get_weak_learner()\n",
    "            bag.fit(x_sample,y_sample)\n",
    "            x_test=[[x[j] for j in feature_indices] for x in X_test]\n",
    "            y_pred=bag.predict_proba(x_test)\n",
    "            self.estimators.append(y_pred)\n",
    "            pass\n",
    "            #END Workspace 3.9\n",
    "\n",
    "    def predict(self, X_test):\n",
    "        predicted_proba = []\n",
    "        answer = []\n",
    "        #BEGIN Workspace 3.10\n",
    "        #TODO: compute cumulative sum of predict proba from estimators and return the labels with highest likelihood\n",
    "        temp=[[0,0,0,0] for i in range(len(X_test))]\n",
    "        for i in self.estimators:\n",
    "            for j in range(len(i)):\n",
    "                for k in range(4):\n",
    "                    temp[j][k]+=i[j][k]\n",
    "        for i in range(len(X_test)):\n",
    "            t=0\n",
    "            for j in range(4):\n",
    "                if temp[i][j]>temp[i][t]:\n",
    "                    t=j\n",
    "            answer.append(t)\n",
    "        #END Workspace 3.10\n",
    "        return answer"
   ]
  },
  {
   "cell_type": "code",
   "execution_count": 21,
   "metadata": {
    "pycharm": {
     "name": "#%%\n"
    }
   },
   "outputs": [
    {
     "name": "stdout",
     "output_type": "stream",
     "text": [
      "              Model  Mean accuracy  Precision(micro)  Execution time\n",
      "2      RandomForest       0.756849          0.756849        1.362783\n",
      "1           Bagging       0.726027          0.726027        0.185253\n",
      "0  get_weak_learner       0.681507          0.681507        0.029061\n"
     ]
    }
   ],
   "source": [
    "# This cell should run without errors\n",
    "ensemble_handler.fit_model(RandomForest(20, sample_ratio=0.9, features_ratio=0.8), 'RandomForest')\n",
    "ensemble_handler.print_result()"
   ]
  },
  {
   "cell_type": "markdown",
   "metadata": {},
   "source": [
    "**Boosting**\n",
    "\n",
    "There are different methods of boosting, but we'll focus in this problem on Adaptive Boosting (AdaBoost).\n",
    "The logic of AdaBoost is to \"push\" the new learner to give more importance to previously misclassified data. We present\n",
    "below the multiclass variant of AdaBoost [SAMME](https://web.stanford.edu/~hastie/Papers/samme.pdf). We denote $K$ the number of classes.\n",
    "\n",
    "AdaBosst is performed by increasing the weights of misclassified simple after each iteration:\n",
    "- Start with equal weights $W_1 = (w_i), $ where   $w_i = \\frac{1}{\\texttt{n_samples}}$\n",
    "- at step j:\n",
    "    - Train estimator $h_j$ using weights $W_j$\n",
    "    - Find the weighted error rate $\\epsilon_j$ using $W_j$: $\\epsilon_j=\\frac{\\sum_i w_i \\delta(\\hat{y}_i, y_i)}{\\sum_i w_i}$\n",
    "    - Choose $\\alpha_j = \\log \\frac{1-\\epsilon_j}{\\epsilon_j} + \\log(K-1)$\n",
    "    - Update $W_j$ using: $w_i \\leftarrow w_i \\exp(\\alpha_j \\delta(\\hat{y_i}, y_i)) $\n",
    "    - Normalize $W_j$ to have sum 1\n",
    "- Global estimator is $H = \\sum_j \\alpha_j h_j$\n",
    "\n",
    "$\\hat{y}$ are the predicted labels, and $\\delta$ the Kronecker function, equal to 1 when the two argument are equal, 0 otherwise.\n",
    "\n",
    "\n",
    "3.11 Complete `fit` by building `n_estimators` of DecisionTreeClassifier, each trained on the same data but with different\n",
    "samples weights as detailed in the algorithm. Keep track of $(\\alpha_i)$ (*7 points*)\n",
    "\n",
    "3.12 Complete `predict` method to return the predicted label using the global estimator $H$ (*5 points*). Hint:\n",
    "use one hot encoding of the predicted labels from the weak learners and cumulate the prediction with weights $\\alpha_j$ \n",
    "\n",
    "Notice that if the weak learner is consistent (0 error rate on the training set), AdaBoost $\\alpha_j$ are no longer defined."
   ]
  },
  {
   "cell_type": "code",
   "execution_count": 34,
   "metadata": {
    "pycharm": {
     "name": "#%%\n"
    }
   },
   "outputs": [],
   "source": [
    "class AdaBoost(object):\n",
    "\n",
    "    def __init__(self, n_estimators, num_classes=4):\n",
    "        self.n_estimators = n_estimators\n",
    "        self.num_classes = num_classes\n",
    "        self.estimators = []\n",
    "        self.alphas = []\n",
    "        self.weights = None\n",
    "\n",
    "\n",
    "    def fit(self, X_train, y_train):\n",
    "        #BEGIN Workspace 3.11\n",
    "        #TODO: Implement Multiclass Adaboost and keep track of the alpha_j\n",
    "        num=len(y_test)\n",
    "        w=[1/num for i in range(num)]\n",
    "        self.estimators=[[0,0,0,0] for i in range(len(X_test))]\n",
    "        #print(self.estimators)\n",
    "        for _ in range(self.n_estimators):\n",
    "            bag=get_weak_learner()\n",
    "            bag.fit(X_train,y_train)\n",
    "            y_pred=bag.predict(X_test)\n",
    "            #print(y_pred)\n",
    "            self.estimators.append(y_pred)\n",
    "            error=0\n",
    "            for i in range(len(y_pred)):\n",
    "                if y_pred[i]==y_test[i]:\n",
    "                    error+=w[i]\n",
    "                else:\n",
    "                    error+=0\n",
    "            temp=[[0,0,0,0] for i in range(len(X_test))]\n",
    "            #print(len(temp),len(temp[0]))\n",
    "            for i in range(len(X_test)):\n",
    "                temp[i][y_pred[i]]=y_pred[i]*w[i]\n",
    "                self.estimators[i][y_pred[i]]+=y_pred[i]*w[i]\n",
    "            value=np.log((1-error)*(self.num_classes-1)/error)\n",
    "            self.alphas.append(value)\n",
    "            for i in range(num):\n",
    "                if y_pred[i]!=y_test[i]:\n",
    "                    w[i]*=np.exp(value)\n",
    "            s=sum(w)\n",
    "            for i in range(num):\n",
    "                w[i]/=s\n",
    "            self.estimators.append(temp)\n",
    "        pass\n",
    "        #END Workspace 3.11\n",
    "\n",
    "    def predict(self, X_test):\n",
    "        answer = []\n",
    "        #BEGIN Workspace 3.12\n",
    "        #TODO: get the labels returned by the global estimator defined as H\n",
    "        #Hint: Use one-hot format to get the labels using the global estimator\n",
    "        #Hint: We don't need predict_proba for this one\n",
    "        t=self.estimators\n",
    "        for i in range(len(X_test)):\n",
    "            tt=0\n",
    "            for j in range(4):\n",
    "                if t[i][j]>t[i][tt]:\n",
    "                    tt=j\n",
    "            answer.append(tt)\n",
    "        #END Workspace 3.12\n",
    "        return answer"
   ]
  },
  {
   "cell_type": "code",
   "execution_count": 35,
   "metadata": {
    "pycharm": {
     "name": "#%%\n"
    }
   },
   "outputs": [
    {
     "name": "stdout",
     "output_type": "stream",
     "text": [
      "              Model  Mean accuracy  Precision(micro)  Execution time\n",
      "2      RandomForest       0.756849          0.756849        1.362783\n",
      "1           Bagging       0.726027          0.726027        0.185253\n",
      "3          AdaBoost       0.695205          0.695205        0.217802\n",
      "0  get_weak_learner       0.681507          0.681507        0.029061\n"
     ]
    }
   ],
   "source": [
    "# This cell should run without errors\n",
    "ensemble_handler.fit_model(AdaBoost(10), 'AdaBoost')\n",
    "ensemble_handler.print_result()"
   ]
  },
  {
   "cell_type": "markdown",
   "metadata": {},
   "source": [
    "**Comparison**\n",
    "\n",
    "3.13 Add different ensemble methods to the handler (try different parameters), plot, show, and compare them (*5 points*)."
   ]
  },
  {
   "cell_type": "code",
   "execution_count": 37,
   "metadata": {
    "pycharm": {
     "name": "#%%\n"
    }
   },
   "outputs": [
    {
     "data": {
      "image/png": "[encoded data removed]",
      "text/plain": [
       "<Figure size 432x288 with 1 Axes>"
      ]
     },
     "metadata": {
      "needs_background": "light"
     },
     "output_type": "display_data"
    },
    {
     "data": {
      "image/png": "[encoded data removed]",
      "text/plain": [
       "<Figure size 432x288 with 1 Axes>"
      ]
     },
     "metadata": {
      "needs_background": "light"
     },
     "output_type": "display_data"
    },
    {
     "data": {
      "image/png": "[encoded data removed]",
      "text/plain": [
       "<Figure size 432x288 with 1 Axes>"
      ]
     },
     "metadata": {
      "needs_background": "light"
     },
     "output_type": "display_data"
    },
    {
     "name": "stdout",
     "output_type": "stream",
     "text": [
      "score= {'decision_tree': 0.6815068493150684, 'Bagging': 0.7328767123287672, 'Random Forest': 0.7671232876712328, 'AdaBoost': 0.6917808219178082}\n",
      "time= {'decision_tree': 0.022324085235595703, 'Bagging': 0.18501520156860352, 'Random Forest': 1.3532607555389404, 'AdaBoost': 0.18268895149230957}\n",
      "metric= {'decision_tree': 0.6815068493150684, 'Bagging': 0.7328767123287672, 'Random Forest': 0.7671232876712328, 'AdaBoost': 0.6917808219178082}\n"
     ]
    }
   ],
   "source": [
    "# create a handler for ensemble_test, use the created handler for fitting different models.\n",
    "ensemble_handler = EnsembleTest(X_train, y_train, X_test, y_test)\n",
    "decision = get_weak_learner()\n",
    "ensemble_handler.fit_model(decision,'decision_tree')\n",
    "#BEGIN Workspace 3.13.a\n",
    "#TODO Add multiple instances of the ensemble methods. Plot and compare their performance\n",
    "\n",
    "decision=BaggingEnsemble(10,0.9)\n",
    "ensemble_handler.fit_model(decision,'Bagging')\n",
    "\n",
    "decision=RandomForest(20, sample_ratio=0.9, features_ratio=0.8)\n",
    "ensemble_handler.fit_model(decision,'Random Forest')\n",
    "\n",
    "decision=AdaBoost(10)\n",
    "ensemble_handler.fit_model(decision,'AdaBoost')\n",
    "ensemble_handler.plot_metric()\n",
    "#END Workspace 3.13.a"
   ]
  },
  {
   "cell_type": "markdown",
   "metadata": {
    "pycharm": {
     "name": "#%% md\n"
    }
   },
   "source": [
    "#BEGIN Workspace 3.13.b\n",
    "#TODO Comparison write-up\n",
    "\n",
    "Base on the graph above, the random forest classifier always yields the highest accuracy and precision, bagging and adaboosting has similiar accuracy score and decision tree has lowest accuracy score. The reason is for random forest, bagging and adaboosting classifiers, they all did some puring for the decision tree, so it have higher accuracy compare to normal decision tree classifier.\n",
    "For the time, random forest classifier has highest time cost in all the other clssifiers. The reason is because it uses mutiple decision trees, so the time cost is a lot higher than all the classifiers. For bagging and boosting, they have similar time cost. And for regular decison tree, becuase there is no puring, it has lowest time cost\n",
    "#END Workspace 3.13.b"
   ]
  },
  {
   "cell_type": "code",
   "execution_count": null,
   "metadata": {},
   "outputs": [],
   "source": []
  }
 ],
 "metadata": {
  "kernelspec": {
   "display_name": "Python 3",
   "language": "python",
   "name": "python3"
  },
  "language_info": {
   "codemirror_mode": {
    "name": "ipython",
    "version": 3
   },
   "file_extension": ".py",
   "mimetype": "text/x-python",
   "name": "python",
   "nbconvert_exporter": "python",
   "pygments_lexer": "ipython3",
   "version": "3.7.5"
  }
 },
 "nbformat": 4,
 "nbformat_minor": 2
}
