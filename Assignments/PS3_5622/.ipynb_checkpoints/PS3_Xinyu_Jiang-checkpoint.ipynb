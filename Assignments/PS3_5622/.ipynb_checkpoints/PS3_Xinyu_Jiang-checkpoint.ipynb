{
 "cells": [
  {
   "cell_type": "markdown",
   "metadata": {
    "deletable": false,
    "editable": false,
    "nbgrader": {
     "cell_type": "markdown",
     "checksum": "3f81acd82ece13381a1f4b64fecba836",
     "grade": false,
     "grade_id": "title",
     "locked": true,
     "schema_version": 3,
     "solution": false,
     "task": false
    }
   },
   "source": [
    "# Homework 3 - Linear and Logistic Regressions\n",
    "## CSCI 5622 - Fall 2021\n",
    "***\n",
    "**Name**: Xinyu Jiang\n",
    "***\n",
    "\n",
    "This assignment is due on Canvas by **11.59 PM on Thursday, October 28th**.\n",
    "Submit only this Jupyter notebook to Canvas.  Do not compress it using tar, rar, zip, etc.\n",
    "Your solutions to analysis questions should be done in Markdown directly below the associated question.\n",
    "Remember that you are encouraged to discuss the problems with your classmates and instructors,\n",
    "but **you must write all code and solutions on your own**, and list any people or sources consulted."
   ]
  },
  {
   "cell_type": "code",
   "execution_count": 500,
   "metadata": {
    "deletable": false,
    "editable": false,
    "nbgrader": {
     "cell_type": "code",
     "checksum": "9354a50cd416af2f0d80ee2111823fe7",
     "grade": false,
     "grade_id": "imports",
     "locked": true,
     "schema_version": 3,
     "solution": false,
     "task": false
    },
    "pycharm": {
     "name": "#%%\n"
    }
   },
   "outputs": [],
   "source": [
    "import numpy as np\n",
    "import matplotlib.pyplot as plt\n",
    "import pandas as pd\n",
    "import pickle, gzip\n",
    "from sklearn.preprocessing import StandardScaler\n",
    "\n",
    "%matplotlib inline"
   ]
  },
  {
   "cell_type": "markdown",
   "metadata": {
    "deletable": false,
    "editable": false,
    "nbgrader": {
     "cell_type": "markdown",
     "checksum": "1b032fcf69a884a5981d01d7d0448a5c",
     "grade": false,
     "grade_id": "p1_title",
     "locked": true,
     "schema_version": 3,
     "solution": false,
     "task": false
    }
   },
   "source": [
    "## Problem 1: Linear Regression (40 points)\n",
    "For this problem we will be using the following datasets"
   ]
  },
  {
   "cell_type": "code",
   "execution_count": 501,
   "metadata": {
    "deletable": false,
    "editable": false,
    "nbgrader": {
     "cell_type": "code",
     "checksum": "3ae7f629ac419c794f9d3df38bb3cad6",
     "grade": false,
     "grade_id": "p1_data",
     "locked": true,
     "schema_version": 3,
     "solution": false,
     "task": false
    },
    "pycharm": {
     "name": "#%%\n"
    }
   },
   "outputs": [],
   "source": [
    "class CloudData:\n",
    "    def __init__(self):\n",
    "        # Data from: https://archive.ics.uci.edu/ml/datasets/Cloud\n",
    "        data = np.fromfile(\"data/cloud.data\", sep = \" \").reshape((1024, 10))\n",
    "        y = data[:, 6]\n",
    "        X = np.delete(data, 6, axis = 1)\n",
    "        \n",
    "        self.train_x = X[:800]\n",
    "        self.train_y = y[:800]\n",
    "        \n",
    "        self.test_x = X[800:]\n",
    "        self.test_y = y[800:]\n",
    "        \n",
    "class ForestData:\n",
    "    def __init__(self):\n",
    "        # Data from: http://archive.ics.uci.edu/ml/datasets/Forest+Fires\n",
    "        data = pd.read_csv(\"data/forestfires.csv\")\n",
    "        data = data.sample(frac = 1).reset_index(drop = True).drop(columns = [\"month\", \"day\"])\n",
    "        data[\"area\"] = np.log(data[\"area\"] + 1)\n",
    "        X = data.drop(columns = \"area\").values\n",
    "        y = data[\"area\"].values\n",
    "        \n",
    "        self.train_x = X[:400]\n",
    "        self.train_y = y[:400]\n",
    "        \n",
    "        self.test_x = X[400:]\n",
    "        self.test_y = y[400:]\n",
    "cloud_data = CloudData()\n",
    "forest_data = ForestData()"
   ]
  },
  {
   "cell_type": "code",
   "execution_count": null,
   "metadata": {},
   "outputs": [],
   "source": []
  },
  {
   "cell_type": "markdown",
   "metadata": {
    "deletable": false,
    "editable": false,
    "nbgrader": {
     "cell_type": "markdown",
     "checksum": "808149ca0b92af2020f6292646220986",
     "grade": false,
     "grade_id": "ridge_intro",
     "locked": true,
     "schema_version": 3,
     "solution": false,
     "task": false
    },
    "pycharm": {
     "name": "#%% md\n"
    }
   },
   "source": [
    "We have seen that Ridge regression adds a regularization term to the least square using the L2 norm.\n",
    "Ridge regression is part of scikit-learn package ([read more](https://scikit-learn.org/stable/modules/generated/sklearn.linear_model.Ridge.html))\n",
    "but we will be building our own implementation. You can test your implementation against scikit's.\n",
    "\n",
    "The objective of Ridge regression is to minimize:\n",
    "\n",
    "\\begin{align}\n",
    "\\frac{1}{N}\\sum_{i=1}^{N} ||y_i-\\mathbf{w}^T x_i-b||^2 + \\alpha||\\mathbf{w}||^2\n",
    "\\end{align}\n",
    "\n",
    "where $\\mathbf{w}$ denotes the set of parameters for the linear regression model, $b$ the intercept, $\\alpha$ is the trade-off regularization parameter, and $N$ the number of samples\n",
    "\n",
    "Luckily for us, Ridge regression has closed form solutions for $\\mathbf w$ and $b$.\n",
    "\n",
    "Let $X$ be the $N\\times d$ matrix whose rows are the training samples $(x_i)_{i\\leq N}$ and $Y=(y_i)_{i\\leq N}$ the target values.\n",
    "\n",
    "First, we start by centering the features (columns of X) by subtracting the mean of the column to get centered matrix $\\hat{X}$. Then the solution for the minimization is (trust me):\n",
    "\n",
    "\\begin{align}\n",
    "&\\mathbf{w^*} = (\\hat{X}^T\\hat{X} + \\alpha I)^{-1}\\hat{X}^TY \\\\\n",
    "&b^* = \\frac{1}{N} \\sum_{i}^{i=N} (y_i - \\mathbf{w^*}^T x_i)\n",
    "\\end{align}\n",
    "(Note that the samples in $b^*$ are not centered)\n",
    "\n",
    "A common practice is to scale or normalize (usually normalize) the features before fitting the model. It allows a _fair_ treatment of different features.\n",
    "You are allowed to use scikit's `StandardScaler` to do the normalization (yes, a thing called scaler is normalizing. Don't @ me, @ sklearn). Do not forget to run the same transformation on the test data before running the prediction.\n",
    "\n",
    "- 1.1 *[5 points]* Complete the `fit` and `evaluate` methods following the docstring description."
   ]
  },
  {
   "cell_type": "code",
   "execution_count": 502,
   "metadata": {
    "deletable": false,
    "nbgrader": {
     "cell_type": "code",
     "checksum": "e00e2a00fae3131b6d112d33169f0f21",
     "grade": false,
     "grade_id": "a_1_1",
     "locked": false,
     "schema_version": 3,
     "solution": true,
     "task": false
    },
    "pycharm": {
     "name": "#%%\n"
    }
   },
   "outputs": [],
   "source": [
    "class Ridge(object):\n",
    "\n",
    "    def __init__(self, alpha, normalize = False):\n",
    "        \"\"\"\n",
    "        :param alpha: regularization parameter\n",
    "        :param normalize: boolean whether to normalize the features or not\n",
    "        \"\"\"\n",
    "\n",
    "        self.alpha = alpha # our tuning / regularization parameter\n",
    "        self.coef_ = None # our weights vector, w (in formulae above)\n",
    "        self.intercept = None # our intercept parameter, b (in formulae above)\n",
    "        self.normalize = normalize # boolean whether to normalize the features or not\n",
    "        self.scaler = StandardScaler() # method by which to normalize the features (depends on self.normalize)\n",
    "\n",
    "    def fit(self, X, y):\n",
    "        \"\"\"\n",
    "        Fit the ridge model, train it using the provided data\n",
    "        Calculate the number of non-zero coefficients in the model weights and the norm using np.linalg.norm\n",
    "        :param X: training features (n_samples, n_features)\n",
    "        :param y: target values (n_samples)\n",
    "        :return: tuple (number of non-zeros coefficients of w, norm of w)\n",
    "        \"\"\"\n",
    "        num_nonzero_coefs, coef_norm = 0, 0\n",
    "        # Workspace 1.1.a\n",
    "        # TO DO: compute w and b and store them in self.coef_ and self.intercept\n",
    "        # HINT: use self.scaler first, if and only if self.normalize is True\n",
    "        #BEGIN \n",
    "        #code here\n",
    "        X_ori = X\n",
    "        y = y.reshape((y.shape[0], 1))\n",
    "        if self.normalize:\n",
    "            X = self.scaler.fit_transform(X)\n",
    "        else:\n",
    "            X = X - np.average(X, axis=0)\n",
    "        n_samples, n_features = X.shape\n",
    "        A = np.dot(X.T, X)  # d*d\n",
    "        Xy = np.dot(X.T, y) # d*1\n",
    "        alphaI = self.alpha * np.eye(N=n_features) # d*d\n",
    "\n",
    "        left = np.linalg.inv(A + alphaI) # d*d\n",
    "        num_nonzero_coefs = np.dot(left, Xy) # d*1\n",
    "        coef_norm = np.linalg.norm(num_nonzero_coefs, 2)\n",
    "        #\n",
    "        self.coef_ = num_nonzero_coefs[:,0]\n",
    "        if self.normalize:\n",
    "            self.intercept = np.mean(y - np.dot(num_nonzero_coefs.T, X.T))\n",
    "        else:\n",
    "            self.intercept = np.mean(y - np.dot(num_nonzero_coefs.T, X_ori.T))\n",
    "        num_nonzero_coefs = len(num_nonzero_coefs[:, 0].nonzero()[0])\n",
    "        #END\n",
    "        return num_nonzero_coefs, coef_norm\n",
    "\n",
    "    def evaluate(self, test_x, test_y):\n",
    "        \"\"\"\n",
    "        Compute Root mean square error (RMSE) between the predicted values and the actual values  of the test data\n",
    "        :param test_x: test features\n",
    "        :param test_y: test target\n",
    "        :return: RMSE\n",
    "        \"\"\"\n",
    "        if self.normalize:\n",
    "            test_x = self.scaler.fit_transform(test_x)\n",
    "        else:\n",
    "            test_x = test_x - np.average(test_x, axis=0)\n",
    "        predict = np.dot(self.coef_.T, test_x.T) + self.intercept\n",
    "        root_mean_squared_error = np.sqrt(np.mean((test_y-predict)**2))\n",
    "        # Workspace 1.1.b\n",
    "        #BEGIN \n",
    "        #code here\n",
    "        \n",
    "        #END\n",
    "        return root_mean_squared_error"
   ]
  },
  {
   "cell_type": "code",
   "execution_count": 503,
   "metadata": {
    "deletable": false,
    "editable": false,
    "nbgrader": {
     "cell_type": "code",
     "checksum": "d56ec7d6e3f88bbea00ac300ec608fde",
     "grade": true,
     "grade_id": "a_1_1_a",
     "locked": true,
     "points": 2.5,
     "schema_version": 3,
     "solution": false,
     "task": false
    },
    "pycharm": {
     "name": "#%%\n"
    }
   },
   "outputs": [],
   "source": [
    "# Tests cells, do not remove\n",
    "# Should run without errors\n",
    "sanity_X = np.array([[1.55143777, 0.2644804, 0.0995576 ],\n",
    "              [0.22541014,  1.6967911,  -0.45701382],\n",
    "              [0.12528546, -1.44263567, 0.7017054 ],\n",
    "              [-1.30567135, -0.86010032, -1.13522536]])\n",
    "sanity_y = np.array([ 136.70039877, 10.1003086, 44.67363091, -221.48398972])\n",
    "# Test unnormalized ridge\n",
    "coef_raw = np.array([67.3816571, 12.4267024, 46.63028522])\n",
    "intercept_raw = -7.2683820675025785\n",
    "reg = Ridge(alpha=2, normalize=False)\n",
    "reg.fit(sanity_X,sanity_y)\n",
    "assert np.alltrue(np.isclose(coef_raw, reg.coef_, atol=1e-5)) and np.isclose(intercept_raw, reg.intercept, atol=1e-5)"
   ]
  },
  {
   "cell_type": "code",
   "execution_count": 504,
   "metadata": {
    "deletable": false,
    "editable": false,
    "nbgrader": {
     "cell_type": "code",
     "checksum": "2d096edd9f3aa34f1ee3a2106c012d96",
     "grade": true,
     "grade_id": "a_1_1_b",
     "locked": true,
     "points": 2.5,
     "schema_version": 3,
     "solution": false,
     "task": false
    },
    "pycharm": {
     "name": "#%%\n"
    }
   },
   "outputs": [],
   "source": [
    "# test normalized ridge\n",
    "coef_norm = np.array([59.85861897, 18.28561265, 48.08714515])\n",
    "intercept_norm = -7.502412860000002\n",
    "reg = Ridge(alpha=2, normalize=True)\n",
    "reg.fit(sanity_X,sanity_y)\n",
    "assert np.alltrue(np.isclose(coef_norm, reg.coef_, atol=1e-5)) and np.isclose(intercept_norm, reg.intercept, atol=1e-5)"
   ]
  },
  {
   "cell_type": "markdown",
   "metadata": {
    "deletable": false,
    "editable": false,
    "nbgrader": {
     "cell_type": "markdown",
     "checksum": "03178410c09a67c38e2dc1437eab1a4f",
     "grade": false,
     "grade_id": "q_1_2",
     "locked": true,
     "schema_version": 3,
     "solution": false,
     "task": false
    },
    "pycharm": {
     "name": "#%% md\n"
    }
   },
   "source": [
    "- 1.2 *[5 points]* For each of the datasets (cloud_data and forest_data from the beginning of this notebook), produce 3 plots as a function of alpha that compare normalized versus non-normalized Ridge:\n",
    "    - The number non-zero coefficients\n",
    "    - The norm of $\\mathbf w$\n",
    "    - The test RMSE (Root Mean Squared Error)\n",
    "Use $\\alpha = 1, 50, 100, 200, 1000$.\n",
    "\n",
    "To produce multiple plots in the same figure, see the examples [here](https://matplotlib.org/devdocs/gallery/subplots_axes_and_figures/subplots_demo.html)"
   ]
  },
  {
   "cell_type": "code",
   "execution_count": 505,
   "metadata": {
    "deletable": false,
    "nbgrader": {
     "cell_type": "code",
     "checksum": "a91f6a5a0d3527ae30849d4b9e9bfaba",
     "grade": true,
     "grade_id": "a_1_2",
     "locked": false,
     "points": 5,
     "schema_version": 3,
     "solution": true,
     "task": false
    },
    "pycharm": {
     "name": "#%%\n"
    }
   },
   "outputs": [
    {
     "data": {
      "image/png": "[encoded data removed]",
      "text/plain": [
       "<Figure size 1008x288 with 3 Axes>"
      ]
     },
     "metadata": {
      "needs_background": "light"
     },
     "output_type": "display_data"
    },
    {
     "name": "stdout",
     "output_type": "stream",
     "text": [
      "----------------------cloud_data-----------------\n",
      "\n",
      "\n"
     ]
    },
    {
     "data": {
      "image/png": "[encoded data removed]",
      "text/plain": [
       "<Figure size 1008x288 with 3 Axes>"
      ]
     },
     "metadata": {
      "needs_background": "light"
     },
     "output_type": "display_data"
    },
    {
     "name": "stdout",
     "output_type": "stream",
     "text": [
      "----------------------forest_data-----------------\n"
     ]
    }
   ],
   "source": [
    "alphas = [1, 50, 100, 200, 1000]\n",
    "# Workspace 1.2\n",
    "#BEGIN\n",
    "#code here\n",
    "c_trainx, c_trainy = cloud_data.train_x, cloud_data.train_y\n",
    "c_testx, c_testy = cloud_data.test_x, cloud_data.test_y\n",
    "for idx in range(2):\n",
    "    if idx == 0:\n",
    "        c_trainx, c_trainy = cloud_data.train_x, cloud_data.train_y\n",
    "        c_testx, c_testy = cloud_data.test_x, cloud_data.test_y\n",
    "    else:\n",
    "        c_trainx, c_trainy = forest_data.train_x, forest_data.train_y\n",
    "        c_testx, c_testy = forest_data.test_x, forest_data.test_y\n",
    "    alphas = [1, 50, 100, 200, 1000]\n",
    "    nnz_coef_list_norm = []\n",
    "    nnz_coef_list_nonorm = []\n",
    "    norm_w_list_norm = []\n",
    "    norm_w_list_nonorm = []\n",
    "    rmse_list_norm = []\n",
    "    rmse_list_nonorm = []\n",
    "\n",
    "    # print(c_trainx.shape, c_trainy.shape)\n",
    "    for i, al in enumerate(alphas):\n",
    "        reg = Ridge(alpha=al, normalize=True)\n",
    "        nnz_coef, norm_w = reg.fit(c_trainx, c_trainy)\n",
    "        rmse = reg.evaluate(c_testx, c_testy)\n",
    "        nnz_coef_list_norm.append(nnz_coef)\n",
    "        norm_w_list_norm.append(norm_w)\n",
    "        rmse_list_norm.append(rmse)\n",
    "\n",
    "        reg2 = Ridge(alpha=al, normalize=False)\n",
    "        nnz_coef, norm_w = reg2.fit(c_trainx, c_trainy)\n",
    "        rmse = reg2.evaluate(c_testx, c_testy)\n",
    "        nnz_coef_list_nonorm.append(nnz_coef)\n",
    "        norm_w_list_nonorm.append(norm_w)\n",
    "        rmse_list_nonorm.append(rmse)\n",
    "\n",
    "    #     print(al, nnz_coef, norm_w, rmse)\n",
    "\n",
    "\n",
    "    plt.figure(figsize=(14,4))\n",
    "    plt.subplot(1, 3, 1)\n",
    "    plt.plot(alphas, norm_w_list_norm, 'r')\n",
    "    plt.plot(alphas, norm_w_list_nonorm, 'g')\n",
    "    plt.legend(['Norm', 'Nonorm'], loc = 'upper right')\n",
    "    plt.title('Norm_w')\n",
    "\n",
    "    plt.subplot(1, 3, 2)\n",
    "    plt.plot(alphas, rmse_list_norm, 'r')\n",
    "    plt.plot(alphas, rmse_list_nonorm, 'g')\n",
    "    plt.legend(['Norm', 'Nonorm'], loc = 'upper right')\n",
    "    plt.title('RMSE')\n",
    "\n",
    "    plt.subplot(1, 3, 3)\n",
    "    plt.plot(alphas, np.array(nnz_coef_list_norm), 'r')\n",
    "    plt.plot(alphas, np.array(nnz_coef_list_nonorm), 'g')\n",
    "    plt.legend(['Norm', 'Nonorm'], loc = 'upper right')\n",
    "    plt.title(f'nnz_coef')\n",
    "    plt.show()\n",
    "    if idx == 0:\n",
    "        print(\"----------------------cloud_data-----------------\", end='\\n\\n\\n')\n",
    "    else:\n",
    "        print(\"----------------------forest_data-----------------\")\n",
    "    \n",
    "\n",
    "    \n",
    "#END"
   ]
  },
  {
   "cell_type": "markdown",
   "metadata": {
    "deletable": false,
    "editable": false,
    "nbgrader": {
     "cell_type": "markdown",
     "checksum": "dc7e2c2053991ca687b6d5610e0a5c11",
     "grade": false,
     "grade_id": "lasso_intro",
     "locked": true,
     "schema_version": 3,
     "solution": false,
     "task": false
    }
   },
   "source": [
    "Based on the results from previous questions, you should have noticed that the interpretation of Ridge regression is not an easy task.\n",
    "One way to solve that is to use a regularization that adds _sparsity_ to $\\mathbf w$ and excludes less important features.\n",
    "That's what Lasso regression is about.\n",
    "\n",
    "Lasso uses $l_1$ norm in the regularization term and minimizes:\n",
    "\\begin{align}\n",
    "\\frac{1}{2N}\\sum_i ||y_i-\\mathbf{w}^t x_i -b||^2 + \\alpha||\\mathbf{w}||_1\n",
    "\\end{align}\n",
    "\n",
    "It is part of scikit package ([more details](http://scikit-learn.org/stable/modules/generated/sklearn.linear_model.Lasso.html))\n",
    "and you're free to compare your implementation to scikit's.\n",
    "\n",
    "Unfortunately, there is no closed form solution for Lasso. Instead, we have powerful algorithms to optimize it.\n",
    "We will be using lasso-path solver from scikit-learn for our implementation to find $\\mathbf w^*$\n",
    "([see more](https://scikit-learn.org/stable/modules/generated/sklearn.linear_model.lasso_path.html#sklearn.linear_model.lasso_path)).\n",
    "(Note that `lasso_path` takes a list of $\\alpha$ in the argument `alphas` and not a scalar.)\n",
    "\n",
    "Similar to Ridge's, $ \\mathbf w^* $ is computed using lasso_path with the centered features $\\hat{X}$.\n",
    "Once $\\mathbf w^*$ is found, $b^*$ uses the same formula from Ridge regression.\n",
    "\n",
    "1.3 *[5 points]* Complete the Lasso class in the same way Ridge class was created. (You may use inheritance for a concise code.)"
   ]
  },
  {
   "cell_type": "code",
   "execution_count": 523,
   "metadata": {
    "deletable": false,
    "nbgrader": {
     "cell_type": "code",
     "checksum": "99fcb1a874198b290b80633930bc3e71",
     "grade": false,
     "grade_id": "lasso_code",
     "locked": false,
     "schema_version": 3,
     "solution": true,
     "task": false
    },
    "pycharm": {
     "name": "#%%\n"
    }
   },
   "outputs": [],
   "source": [
    "from sklearn.linear_model import lasso_path\n",
    "\n",
    "\n",
    "class Lasso(object):\n",
    "    def __init__(self, alpha, normalize=False):\n",
    "        \"\"\"\n",
    "        :param alpha: regularization parameter\n",
    "        :param normalize: boolean whether to normalize the features or not\n",
    "        \"\"\"\n",
    "\n",
    "        self.alpha = alpha  # our tuning / regularization parameter\n",
    "        self.coef_ = None  # our weights vector, w (in formulae above)\n",
    "        self.intercept = None  # our intercept parameter, b (in formulae above)\n",
    "        self.normalize = normalize  # boolean whether to normalize the features or not\n",
    "        self.scaler = StandardScaler()  # method by which to normalize the features (depends on self.normalize)\n",
    "\n",
    "    def fit(self, X, y):\n",
    "        \"\"\"\n",
    "        Fit the lasso model, train it using the provided data\n",
    "        Calculate the number of non-zero coefficients in the model weights and the norm using np.linalg.norm\n",
    "        :param X: training features (n_samples, n_features)\n",
    "        :param y: target values (n_samples)\n",
    "        :return: tuple (number of non-zeros coefficients of w, norm of w)\n",
    "        \"\"\"\n",
    "        X_ori = X\n",
    "        if self.normalize:\n",
    "            X = self.scaler.fit_transform(X)\n",
    "        else:\n",
    "            X = X - np.average(X, axis=0)\n",
    "\n",
    "        _, num_nonzero_coefs, _ = lasso_path(X, y, alphas=[self.alpha])\n",
    "\n",
    "        self.coef_ = num_nonzero_coefs[:, 0]\n",
    "        coef_norm = np.linalg.norm(num_nonzero_coefs, 2)\n",
    "\n",
    "        if self.normalize:\n",
    "            self.intercept = np.mean(y - np.dot(num_nonzero_coefs.T, X.T))\n",
    "        else:\n",
    "            self.intercept = np.mean(y - np.dot(num_nonzero_coefs.T, X_ori.T))\n",
    "\n",
    "        num_nonzero_coefs = len(num_nonzero_coefs[:, 0].nonzero()[0])\n",
    "        # END\n",
    "        return num_nonzero_coefs, coef_norm\n",
    "\n",
    "\n",
    "    def evaluate(self, test_x, test_y):\n",
    "        \"\"\"\n",
    "        Compute Root mean square error (RMSE) between the predicted values and the actual values  of the test data\n",
    "        :param test_x: test features\n",
    "        :param test_y: test target\n",
    "        :return: RMSE\n",
    "        \"\"\"\n",
    "        # Workspace 1.1.b\n",
    "        # BEGIN\n",
    "        # code here\n",
    "        if self.normalize:\n",
    "            test_x = self.scaler.fit_transform(test_x)\n",
    "        else:\n",
    "            test_x = test_x - np.average(test_x, axis=0)\n",
    "        predict = np.dot(self.coef_.T, test_x.T) + self.intercept\n",
    "        root_mean_squared_error = np.sqrt(np.mean((test_y - predict) ** 2))\n",
    "        # END\n",
    "        return root_mean_squared_error"
   ]
  },
  {
   "cell_type": "code",
   "execution_count": 524,
   "metadata": {
    "deletable": false,
    "editable": false,
    "nbgrader": {
     "cell_type": "code",
     "checksum": "1d1d56dc4a0ecd263e07b75e82b284e1",
     "grade": true,
     "grade_id": "a_1_3",
     "locked": true,
     "points": 5,
     "schema_version": 3,
     "solution": false,
     "task": false
    },
    "pycharm": {
     "name": "#%%\n"
    }
   },
   "outputs": [],
   "source": [
    "# Tests cell, do not remove\n",
    "# Test non-normalized Lasso\n",
    "coef_raw = np.array([83.36110924, 15.21050409, 79.08888918])\n",
    "intercept_raw = -2.9950281444221063\n",
    "reg = Lasso(alpha=2, normalize=False)\n",
    "reg.fit(sanity_X,sanity_y)\n",
    "assert np.alltrue(np.isclose(coef_raw, reg.coef_, atol=1e-5)) and np.isclose(intercept_raw, reg.intercept, atol=1e-5)\n",
    "\n",
    "# Test normalized Lasso\n",
    "coef_norm = np.array([82.32525113, 19.25895655, 56.15183344])\n",
    "intercept_norm = -7.502412860000005\n",
    "reg = Lasso(alpha=2, normalize=True)\n",
    "reg.fit(sanity_X,sanity_y)\n",
    "assert np.alltrue(np.isclose(coef_norm, reg.coef_, atol=1e-5)) and np.isclose(intercept_norm, reg.intercept, atol=1e-5)"
   ]
  },
  {
   "cell_type": "markdown",
   "metadata": {
    "deletable": false,
    "editable": false,
    "nbgrader": {
     "cell_type": "markdown",
     "checksum": "6df7a41d33c42c2f59a16bee2e7b705c",
     "grade": false,
     "grade_id": "q_1_4",
     "locked": true,
     "schema_version": 3,
     "solution": false,
     "task": false
    },
    "pycharm": {
     "name": "#%% md\n"
    }
   },
   "source": [
    "- 1.4 *[5 points]* For each of the datasets, produce 3 plots as a function of $\\alpha$ that compares normalized versus non-normalized Lasso:\n",
    "    - The number non-zero coefficients\n",
    "    - The norm of $\\mathbf w$\n",
    "    - The test RMSE\n",
    "\n",
    "Use $\\alpha = 0.01, 0.05, 0.1, 0.2, 0.3, 1.0$.\n",
    "\n",
    "Can you get all coefficients of $\\mathbf w$ to 0?\n"
   ]
  },
  {
   "cell_type": "code",
   "execution_count": 525,
   "metadata": {
    "deletable": false,
    "nbgrader": {
     "cell_type": "code",
     "checksum": "53111da0a74bc9366690a16d2bd4e674",
     "grade": true,
     "grade_id": "a_1_4",
     "locked": false,
     "points": 5,
     "schema_version": 3,
     "solution": true,
     "task": false
    },
    "pycharm": {
     "name": "#%%\n"
    }
   },
   "outputs": [
    {
     "data": {
      "image/png": "[encoded data removed]",
      "text/plain": [
       "<Figure size 1008x288 with 3 Axes>"
      ]
     },
     "metadata": {
      "needs_background": "light"
     },
     "output_type": "display_data"
    },
    {
     "name": "stdout",
     "output_type": "stream",
     "text": [
      "----------------------forest_data-----------------\n"
     ]
    },
    {
     "data": {
      "image/png": "[encoded data removed]",
      "text/plain": [
       "<Figure size 1008x288 with 3 Axes>"
      ]
     },
     "metadata": {
      "needs_background": "light"
     },
     "output_type": "display_data"
    },
    {
     "name": "stdout",
     "output_type": "stream",
     "text": [
      "----------------------forest_data-----------------\n"
     ]
    }
   ],
   "source": [
    "alphas = [0.01, 0.05, 0.1, 0.2, 0.3, 1.0]\n",
    "# Workspace 1.4\n",
    "#BEGIN \n",
    "#code here\n",
    "c_trainx, c_trainy = cloud_data.train_x, cloud_data.train_y\n",
    "c_testx, c_testy = cloud_data.test_x, cloud_data.test_y\n",
    "for idx in range(2):\n",
    "    if idx == 0:\n",
    "        c_trainx, c_trainy = cloud_data.train_x, cloud_data.train_y\n",
    "        c_testx, c_testy = cloud_data.test_x, cloud_data.test_y\n",
    "    else:\n",
    "        c_trainx, c_trainy = forest_data.train_x, forest_data.train_y\n",
    "        c_testx, c_testy = forest_data.test_x, forest_data.test_y\n",
    "#     alphas = [1, 50, 100, 200, 1000]\n",
    "    idx= [0,1,2,3,4,5]\n",
    "    \n",
    "    nnz_coef_list_norm = []\n",
    "    nnz_coef_list_nonorm = []\n",
    "    norm_w_list_norm = []\n",
    "    norm_w_list_nonorm = []\n",
    "    rmse_list_norm = []\n",
    "    rmse_list_nonorm = []\n",
    "\n",
    "    # print(c_trainx.shape, c_trainy.shape)\n",
    "    for i, al in enumerate(alphas):\n",
    "        reg = Lasso(alpha=al, normalize=True)\n",
    "        nnz_coef, norm_w = reg.fit(c_trainx, c_trainy)\n",
    "        rmse = reg.evaluate(c_testx, c_testy)\n",
    "        nnz_coef_list_norm.append(nnz_coef)\n",
    "        norm_w_list_norm.append(norm_w)\n",
    "        rmse_list_norm.append(rmse)\n",
    "\n",
    "        reg2 = Lasso(alpha=al, normalize=False)\n",
    "        nnz_coef, norm_w = reg2.fit(c_trainx, c_trainy)\n",
    "        rmse = reg2.evaluate(c_testx, c_testy)\n",
    "        nnz_coef_list_nonorm.append(nnz_coef)\n",
    "        norm_w_list_nonorm.append(norm_w)\n",
    "        rmse_list_nonorm.append(rmse)\n",
    "\n",
    "    #     print(al, nnz_coef, norm_w, rmse)\n",
    "\n",
    "\n",
    "    plt.figure(figsize=(14,4))\n",
    "    plt.subplot(1, 3, 1)\n",
    "#     plt.plot(alphas, norm_w_list_norm, 'r')\n",
    "#     plt.plot(alphas, norm_w_list_nonorm, 'g')\n",
    "    plt.plot(list(map(str, alphas)), norm_w_list_norm, 'r')\n",
    "    plt.plot(list(map(str, alphas)), norm_w_list_nonorm, 'g')\n",
    "    \n",
    "    plt.legend(['Norm', 'Nonorm'], loc = 'upper right')\n",
    "    plt.title('Norm_w')\n",
    "\n",
    "\n",
    "    plt.subplot(1, 3, 2)\n",
    "    plt.plot(list(map(str, alphas)), rmse_list_norm, 'r')\n",
    "    plt.plot(list(map(str, alphas)), rmse_list_nonorm, 'g')\n",
    "    plt.legend(['Norm', 'Nonorm'], loc = 'upper right')\n",
    "    plt.title('RMSE')\n",
    "\n",
    "    plt.subplot(1, 3, 3)\n",
    "    plt.plot(list(map(str, alphas)), np.array(nnz_coef_list_norm), 'r')\n",
    "    plt.plot(list(map(str, alphas)), np.array(nnz_coef_list_nonorm), 'g')\n",
    "    plt.legend(['Norm', 'Nonorm'], loc = 'upper right')\n",
    "    plt.title(f'nnz_coef')\n",
    "    plt.show()\n",
    "    if idx == 0:\n",
    "        print(\"----------------------cloud_data-----------------\", end='\\n\\n\\n')\n",
    "    else:\n",
    "        print(\"----------------------forest_data-----------------\")\n",
    "    \n",
    "\n",
    "#END"
   ]
  },
  {
   "cell_type": "markdown",
   "metadata": {
    "deletable": false,
    "editable": false,
    "nbgrader": {
     "cell_type": "markdown",
     "checksum": "1b88ff993965cabbc2cc8dec24e20719",
     "grade": false,
     "grade_id": "q1_5",
     "locked": true,
     "schema_version": 3,
     "solution": false,
     "task": false
    }
   },
   "source": [
    "1.5 *[5 points]* (Write-up) Compare the two algorithms on each data set: compare the number of non-zero coordinates of Ridge vs Lasso and their MSE on each dataset.\n",
    "Which type of regression is better for each dataset? When does normalization improve the regression?"
   ]
  },
  {
   "cell_type": "markdown",
   "metadata": {
    "deletable": false,
    "nbgrader": {
     "cell_type": "markdown",
     "checksum": "66769a7f3015b1d06a8a34dd7c6022db",
     "grade": true,
     "grade_id": "a_1_5",
     "locked": false,
     "points": 5,
     "schema_version": 3,
     "solution": true,
     "task": false
    }
   },
   "source": [
    "# Workspace 1.5\n",
    "Ridge regression uses L2 norm to regular constraints, which can make the generalization performance of the model better. Lasso regression uses L1 norm to constrain to minimize the number of non-zero parameters, that is, the parameters are more sparse.  \n",
    "Therefore, lasso regression is more suitable for data with large amount of features. Ridge regression is more suitable for data that has features with smaller dimensions. In our dataset, cloud and forest data have the same dimension, but there is more data in cloud.Thus, ridge regression is more suitable for cloud data sets; lasso is more suitable for forest data set"
   ]
  },
  {
   "cell_type": "markdown",
   "metadata": {
    "deletable": false,
    "editable": false,
    "nbgrader": {
     "cell_type": "markdown",
     "checksum": "62516c2fae2591303b30465f93fad79d",
     "grade": false,
     "grade_id": "elastic_intro",
     "locked": true,
     "schema_version": 3,
     "solution": false,
     "task": false
    },
    "pycharm": {
     "name": "#%% md\n"
    }
   },
   "source": [
    "Lasso is expected to have higher level of sparsity compared to Ridge. On the other hand, when the number of features is very large\n",
    "(larger than the sample size), Lasso can struggle at picking the right features.\n",
    "Elastic Net try to combine both types of regularization to get the best of both worlds by minimizing:\n",
    "\n",
    "\\begin{align}\n",
    "\\frac{1}{2N} \\sum_i ||y_i - \\mathbf{w}^Tx_i -b||^2_2 + \\alpha\\beta||\\mathbf{w}||_1 + \\frac{\\alpha}{2}(1 - \\beta)||\\mathbf{w}||^2_2\n",
    "\\end{align}\n",
    "\n",
    "where $\\beta\\in[0,1]$ is the $l_1$ ratio ($\\beta=1$ for Lasso and $\\beta=0$ for Ridge).\n",
    "\n",
    "We'll be using ElasticNet solver from [sklearn](https://scikit-learn.org/stable/modules/generated/sklearn.linear_model.ElasticNet.html).\n",
    "\n",
    "- 1.6 *[5 points]* Complete ElasticNet regression class `Elastic` by implementing fit and evaluate methods with the same signature as Lasso and Ridge."
   ]
  },
  {
   "cell_type": "code",
   "execution_count": 540,
   "metadata": {
    "deletable": false,
    "nbgrader": {
     "cell_type": "code",
     "checksum": "7ce4fb7b16dd723b47430cf42d2efa26",
     "grade": false,
     "grade_id": "elastic_code",
     "locked": false,
     "schema_version": 3,
     "solution": true,
     "task": false
    },
    "pycharm": {
     "name": "#%%\n"
    }
   },
   "outputs": [],
   "source": [
    "from sklearn.linear_model import ElasticNet\n",
    "\n",
    "\n",
    "class Elastic(object):\n",
    "    def __init__(self, alpha, beta=0.5, normalize=False):\n",
    "        \"\"\"\n",
    "        :param alpha: regularization parameter\n",
    "        :param beta: l1_ratio for ElasticNet\n",
    "        :param normalize: normalization flag\n",
    "        \"\"\"\n",
    "        self.alpha = alpha\n",
    "        self.beta = beta\n",
    "        self.normalize = normalize\n",
    "        self.scaler = StandardScaler()\n",
    "        self._model = ElasticNet(alpha=alpha, l1_ratio=beta)\n",
    "\n",
    "    def fit(self, X, y):\n",
    "        \"\"\"\n",
    "        fit self._model using the provided data and store the coef and intercept in self.coef_ and self.intercept\n",
    "        Calculate the number of non-zero coefficients in the model weights and the norm using np.linalg.norm\n",
    "        :param X: training features (n_samples, n_features)\n",
    "        :param y: target values (n_samples)\n",
    "        :return: tuple (number of non-zeros coefficients of w, norm of w)\n",
    "        \"\"\"\n",
    "\n",
    "        num_nonzero_coefs, coef_norm = 0, 0\n",
    "        # Workspace 1.6.a\n",
    "        # TO DO: Complete Elastic Net\n",
    "        # TO DO: save w and b in self.coef_ and self.intercept respectively\n",
    "        # BEGIN\n",
    "        # code here\n",
    "        X_ori = X\n",
    "        if self.normalize:\n",
    "            X = self.scaler.fit_transform(X)\n",
    "\n",
    "        self._model.fit(X, y)\n",
    "        num_nonzero_coefs = self._model.coef_\n",
    "\n",
    "        num_nonzero_coefs = num_nonzero_coefs[np.newaxis, :]\n",
    "\n",
    "        self.coef_ = num_nonzero_coefs[0]\n",
    "        coef_norm = np.linalg.norm(num_nonzero_coefs, 2)\n",
    "\n",
    "        if self.normalize:\n",
    "            self.intercept = np.mean(y - np.dot(num_nonzero_coefs, X.T))\n",
    "        else:\n",
    "            self.intercept = np.mean(y - np.dot(num_nonzero_coefs, X_ori.T))\n",
    "\n",
    "#         num_nonzero_coefs = num_nonzero_coefs[0]\n",
    "#         num_nonzero_coefs = len(num_nonzero_coefs[:, 0].nonzero()[0])\n",
    "        num_nonzero_coefs=len(self._model.coef_.nonzero()[0])\n",
    "        # END\n",
    "        return num_nonzero_coefs, coef_norm\n",
    "\n",
    "    def evaluate(self, test_x, test_y):\n",
    "        \"\"\"\n",
    "        Compute Root mean square error (RMSE) between the predicted values and the actual values  of the test data\n",
    "        :param test_x: test features\n",
    "        :param test_y: test target\n",
    "        :return: RMSE\n",
    "        \"\"\"\n",
    "\n",
    "        root_mean_squared_error = 0\n",
    "        # Workspace 1.6.b\n",
    "        # BEGIN\n",
    "        # code here\n",
    "        if self.normalize:\n",
    "            test_x = self.scaler.fit_transform(test_x)\n",
    "        else:\n",
    "            test_x = test_x - np.average(test_x, axis=0)\n",
    "        predict = np.dot(self.coef_.T, test_x.T) + self.intercept\n",
    "        root_mean_squared_error = np.sqrt(np.mean((test_y - predict) ** 2))\n",
    "        # END\n",
    "        return root_mean_squared_error"
   ]
  },
  {
   "cell_type": "code",
   "execution_count": 541,
   "metadata": {
    "deletable": false,
    "editable": false,
    "nbgrader": {
     "cell_type": "code",
     "checksum": "fb3edd120c47934d858a1f6c3c150748",
     "grade": true,
     "grade_id": "a_1_6",
     "locked": true,
     "points": 5,
     "schema_version": 3,
     "solution": false,
     "task": false
    },
    "pycharm": {
     "name": "#%%\n"
    }
   },
   "outputs": [],
   "source": [
    "# Tests cell, do not remove\n",
    "\n",
    "# Test unnormalized ElasticNet\n",
    "coef_raw = np.array([53.27862827, 10.94209836, 33.96771899])\n",
    "intercept_raw = -7.796083758223746\n",
    "reg = Elastic(alpha=2, beta=0.5, normalize=False)\n",
    "reg.fit(sanity_X, sanity_y)\n",
    "assert np.alltrue(np.isclose(coef_raw, reg.coef_, atol=1e-5)) and np.isclose(intercept_raw, reg.intercept, atol=1e-5)\n",
    "# Test normalized Elastic\n",
    "coef_norm = np.array([48.11601119, 14.15394196, 38.74380055])\n",
    "intercept_norm = -7.502412860000006\n",
    "reg = Elastic(alpha=2, beta=0.5, normalize=True)\n",
    "reg.fit(sanity_X, sanity_y)\n",
    "assert np.alltrue(np.isclose(coef_norm, reg.coef_, atol=1e-5)) and np.isclose(intercept_norm, reg.intercept, atol=1e-5)"
   ]
  },
  {
   "cell_type": "markdown",
   "metadata": {
    "deletable": false,
    "editable": false,
    "nbgrader": {
     "cell_type": "markdown",
     "checksum": "eadf1cfef9555522902ca05b73fb1574",
     "grade": false,
     "grade_id": "q_1_7",
     "locked": true,
     "schema_version": 3,
     "solution": false,
     "task": false
    },
    "pycharm": {
     "name": "#%% md\n"
    }
   },
   "source": [
    "- 1.7 *[5 points]* For each of the datasets, produce 3 plots as a function of $\\alpha$ that compares normalized versus non-normalized ElasticNet:\n",
    "    - The number non-zero coefficients\n",
    "    - The norm of $\\mathbf{w}$\n",
    "    - The test RMSE\n",
    "\n",
    "Use $\\alpha = 0.01, 0.05, 0.1, 0.2, 0.3, 0.5 , 1.0$ and $\\beta= 0.5$."
   ]
  },
  {
   "cell_type": "code",
   "execution_count": 542,
   "metadata": {
    "deletable": false,
    "nbgrader": {
     "cell_type": "code",
     "checksum": "0d0d53858ea512d6942bb1e7df9346f3",
     "grade": true,
     "grade_id": "a_1_7",
     "locked": false,
     "points": 5,
     "schema_version": 3,
     "solution": true,
     "task": false
    },
    "pycharm": {
     "name": "#%%\n"
    }
   },
   "outputs": [
    {
     "data": {
      "image/png": "[encoded data removed]",
      "text/plain": [
       "<Figure size 1008x288 with 3 Axes>"
      ]
     },
     "metadata": {
      "needs_background": "light"
     },
     "output_type": "display_data"
    },
    {
     "name": "stdout",
     "output_type": "stream",
     "text": [
      "----------------------cloud_data-----------------\n",
      "\n",
      "\n"
     ]
    },
    {
     "data": {
      "image/png": "[encoded data removed]",
      "text/plain": [
       "<Figure size 1008x288 with 3 Axes>"
      ]
     },
     "metadata": {
      "needs_background": "light"
     },
     "output_type": "display_data"
    },
    {
     "name": "stdout",
     "output_type": "stream",
     "text": [
      "----------------------forest_data-----------------\n"
     ]
    }
   ],
   "source": [
    "alphas = [ 0.01, 0.05, 0.1, 0.2, 0.3, 0.5 , 1.0]\n",
    "beta = 0.5\n",
    "# Workspace 1.7\n",
    "#BEGIN \n",
    "#code here\n",
    "c_trainx, c_trainy = cloud_data.train_x, cloud_data.train_y\n",
    "c_testx, c_testy = cloud_data.test_x, cloud_data.test_y\n",
    "for idx in range(2):\n",
    "    if idx == 0:\n",
    "        c_trainx, c_trainy = cloud_data.train_x, cloud_data.train_y\n",
    "        c_testx, c_testy = cloud_data.test_x, cloud_data.test_y\n",
    "    else:\n",
    "        c_trainx, c_trainy = forest_data.train_x, forest_data.train_y\n",
    "        c_testx, c_testy = forest_data.test_x, forest_data.test_y\n",
    "#     alphas = [1, 50, 100, 200, 1000]\n",
    "    nnz_coef_list_norm = []\n",
    "    nnz_coef_list_nonorm = []\n",
    "    norm_w_list_norm = []\n",
    "    norm_w_list_nonorm = []\n",
    "    rmse_list_norm = []\n",
    "    rmse_list_nonorm = []\n",
    "\n",
    "    # print(c_trainx.shape, c_trainy.shape)\n",
    "    for i, al in enumerate(alphas):\n",
    "        reg = Elastic(alpha=al,beta=0.5, normalize=True)\n",
    "        nnz_coef, norm_w = reg.fit(c_trainx, c_trainy)\n",
    "        rmse = reg.evaluate(c_testx, c_testy)\n",
    "        nnz_coef_list_norm.append(nnz_coef)\n",
    "        norm_w_list_norm.append(norm_w)\n",
    "        rmse_list_norm.append(rmse)\n",
    "\n",
    "        reg2 = Elastic(alpha=al, beta=0.5,normalize=False)\n",
    "        nnz_coef, norm_w = reg2.fit(c_trainx, c_trainy)\n",
    "        rmse = reg2.evaluate(c_testx, c_testy)\n",
    "        nnz_coef_list_nonorm.append(nnz_coef)\n",
    "        norm_w_list_nonorm.append(norm_w)\n",
    "        rmse_list_nonorm.append(rmse)\n",
    "\n",
    "    #     print(al, nnz_coef, norm_w, rmse)\n",
    "\n",
    "\n",
    "    plt.figure(figsize=(14,4))\n",
    "    plt.subplot(1, 3, 1)\n",
    "    plt.plot(list(map(str, alphas)), norm_w_list_norm, 'r')\n",
    "    plt.plot(list(map(str, alphas)), norm_w_list_nonorm, 'g')\n",
    "    plt.legend(['Norm', 'Nonorm'], loc = 'upper right')\n",
    "    plt.title('Norm_w')\n",
    "\n",
    "\n",
    "    plt.subplot(1, 3, 2)\n",
    "    plt.plot(list(map(str, alphas)), rmse_list_norm, 'r')\n",
    "    plt.plot(list(map(str, alphas)), rmse_list_nonorm, 'g')\n",
    "    plt.legend(['Norm', 'Nonorm'], loc = 'upper right')\n",
    "    plt.title('RMSE')\n",
    "\n",
    "    plt.subplot(1, 3, 3)\n",
    "    plt.plot(list(map(str, alphas)), np.array(nnz_coef_list_norm), 'r')\n",
    "    plt.plot(list(map(str, alphas)), np.array(nnz_coef_list_nonorm), 'g')\n",
    "    plt.legend(['Norm', 'Nonorm'], loc = 'upper right')\n",
    "    plt.title(f'nnz_coef')\n",
    "    plt.show()\n",
    "    if idx == 0:\n",
    "        print(\"----------------------cloud_data-----------------\", end='\\n\\n\\n')\n",
    "    else:\n",
    "        print(\"----------------------forest_data-----------------\")\n",
    "#END"
   ]
  },
  {
   "cell_type": "markdown",
   "metadata": {
    "deletable": false,
    "editable": false,
    "nbgrader": {
     "cell_type": "markdown",
     "checksum": "481fba3e49b1e4d87afb342df753ef9e",
     "grade": false,
     "grade_id": "q_1_8",
     "locked": true,
     "schema_version": 3,
     "solution": false,
     "task": false
    }
   },
   "source": [
    "1.8 *[5 points]* What are the cons and pros of each of three types of regressions we have implemented?"
   ]
  },
  {
   "cell_type": "markdown",
   "metadata": {
    "deletable": false,
    "nbgrader": {
     "cell_type": "markdown",
     "checksum": "a6765fd033bc3c4cba48545212a0ae19",
     "grade": true,
     "grade_id": "a_1_8",
     "locked": false,
     "points": 5,
     "schema_version": 3,
     "solution": true,
     "task": false
    },
    "pycharm": {
     "name": "#%% md\n"
    }
   },
   "source": [
    "# Workspace 1.8\n",
    "\n",
    "### Ridge:\n",
    "Advantages:  \n",
    "Improve the stability and generalization ability of the model, and obtain the regression coefficients to be more realistic and reliable. In addition to that, it can solve the problem of fewer samples than features.  \n",
    "Disadvantages:  \n",
    "It could not do feature selection. Also, Ridge Regression reduces the value of the coefficient, but it does not reach zero.\n",
    "\n",
    "### Lasso:\n",
    "Advantages:  \n",
    "Lasso Regression allows it to be used with other sparse algorithms (because of its sparseness), which makes it more computationally efficient. Also, Lasso Regression improves the sparsity of parameters by only retain important features, and other irrelevant features are 0; it plays a role in feature selection. \n",
    "Disadvantages:  \n",
    "The calculation is slightly more complicated, and there is no closed-form solution.\n",
    "\n",
    "### Elastic Net:\n",
    "Advantages:  \n",
    "Combine the advantages of ridge and lasso regression, ensure the stability of ridge during iteration. Elastic-Net inherits stability of Ridge Regression in loops. Also Elastic-Net can learn from a sparse model with only a few parameters that is non-zero.  \n",
    "Disadvantages:  \n",
    "The parameters of both need to be adjusted properly. Also, the elastic net algorithm computional process is more complex than lasso and ridge regression."
   ]
  },
  {
   "cell_type": "markdown",
   "metadata": {
    "deletable": false,
    "editable": false,
    "nbgrader": {
     "cell_type": "markdown",
     "checksum": "15eb1372f75e304dd11532388abde71d",
     "grade": false,
     "grade_id": "problem2",
     "locked": true,
     "schema_version": 3,
     "solution": false,
     "task": false
    }
   },
   "source": [
    "***\n",
    "## Problem 2: Logistic Regression for Binary Classification (35 points)\n",
    "\n",
    "The second part of this assignment will be dealing with Logistic Regression.\n",
    "While the name \"regression\" suggests otherwise, Logistic Regression is actually used for classification.\n",
    "It's a regression problem because the targets are the continuous likelihoods of the outcomes.\n",
    "\n",
    "Our dataset is a subset of the MNIST dataset, which has a higher resolution compared to the sklearn's digits data seen in HW1.\n",
    "\n",
    "In this problem you'll implement a Logistic Regression classifier to take drawings of either an eight\n",
    "or a nine and output the corresponding label."
   ]
  },
  {
   "cell_type": "code",
   "execution_count": 543,
   "metadata": {
    "deletable": false,
    "editable": false,
    "nbgrader": {
     "cell_type": "code",
     "checksum": "24e3697dc48400bb0e31ad18c95c2995",
     "grade": false,
     "grade_id": "binary_mnist",
     "locked": true,
     "schema_version": 3,
     "solution": false,
     "task": false
    },
    "pycharm": {
     "name": "#%%\n"
    }
   },
   "outputs": [],
   "source": [
    "class BinaryMNIST:\n",
    "    \"\"\"\n",
    "    Class to store MNIST data for images of 9 and 8 only\n",
    "    \"\"\"\n",
    "    def __init__(self, location='./data/mnist.pklz'):\n",
    "        # You shouldn't have to modify this class\n",
    "        # Load the dataset\n",
    "        with gzip.open(location, 'rb') as f:\n",
    "            self.train_x, self.train_y, self.test_x, self.test_y = pickle.load(f)\n",
    "\n",
    "        train_indices = np.where(self.train_y > 7)\n",
    "        self.train_x, self.train_y = self.train_x[train_indices], self.train_y[train_indices]\n",
    "        self.train_y = self.train_y - 8\n",
    "\n",
    "        test_indices = np.where(self.test_y > 7)\n",
    "        self.test_x, self.test_y = self.test_x[test_indices], self.test_y[test_indices]\n",
    "        self.test_y = self.test_y - 8\n",
    "\n",
    "binary_mnist = BinaryMNIST()"
   ]
  },
  {
   "cell_type": "markdown",
   "metadata": {
    "deletable": false,
    "editable": false,
    "nbgrader": {
     "cell_type": "markdown",
     "checksum": "90448a86a01b09650871ffb7adee4c93",
     "grade": false,
     "grade_id": "q_2_1",
     "locked": true,
     "schema_version": 3,
     "solution": false,
     "task": false
    },
    "pycharm": {
     "name": "#%% md\n"
    }
   },
   "source": [
    "Logistic Regression is about minimizing the negative log likelihood objective defined as:\n",
    "\\begin{align}\n",
    "\\textrm{NLL}(\\mathbf{w}) = -\\frac{1}{N}\\sum_{i=1}^N \\left[y_i \\log \\sigma(\\mathbf{w}^T{x_i}) + (1-y_i)\\log(1 - \\sigma(\\mathbf{w}^Tx_i))\\right]\n",
    "\\end{align}\n",
    "\n",
    "You might be wondering: where is the intercept?\n",
    "We're including the intercept in $(x_i)_i$ since we'll be adding a constant column to the $(x_i)_i$.\n",
    "We will call it the zero-th column and the intercept will be $\\mathbf{w}_0$.\n",
    "\n",
    "$\\sigma$ is the sigmoid function seen in class.\n",
    "\n",
    "The gradient of $NLL$ w.r.t $\\mathbf{w}$ is:\n",
    "\n",
    "\\begin{align}\n",
    "\\frac{\\partial \\textrm{NLL}}{\\partial \\mathbf{w}} = \\frac{1}{N} \\sum_i \\left[\\sigma(\\mathbf{w}^Tx_i)-y_i)\\right]x_i\n",
    "\\end{align}"
   ]
  },
  {
   "cell_type": "markdown",
   "metadata": {
    "deletable": false,
    "editable": false,
    "nbgrader": {
     "cell_type": "markdown",
     "checksum": "152489d1f4d1dec19dae2dad13d66f53",
     "grade": false,
     "grade_id": "questions2",
     "locked": true,
     "schema_version": 3,
     "solution": false,
     "task": false
    },
    "pycharm": {
     "name": "#%% md\n"
    }
   },
   "source": [
    "- 2.1 *[2.5 points]* Finish the `score` function to return the output of applying\n",
    "the dot product of the weights with the input parameter\n",
    "\n",
    "- 2.2 *[2.5 points]* Finish the `sigmoid` function to return the output of applying the sigmoid function to the calculated score\n",
    "\n",
    "- 2.3 *[2.5 points]* Finish the `compute_gradient` function to return the derivative of the cost w.r.t. the weights\n",
    "\n",
    "- 2.4 *[5 points]* Finish the `batch_update` function so that it performs batch gradient descent using the provided batch data\n",
    "\n",
    "- 2.5 *[5 points]* Finish the `fit` function so that it performs several training epochs and returns the Recall score on\n",
    "the validation data at the end of each epoch."
   ]
  },
  {
   "cell_type": "code",
   "execution_count": 544,
   "metadata": {
    "deletable": false,
    "nbgrader": {
     "cell_type": "code",
     "checksum": "2b28aba58dcc97863eb02c6937e83997",
     "grade": false,
     "grade_id": "logreg_code",
     "locked": false,
     "schema_version": 3,
     "solution": true,
     "task": false
    },
    "pycharm": {
     "name": "#%%\n"
    }
   },
   "outputs": [],
   "source": [
    "from sklearn.metrics import recall_score\n",
    "\n",
    "class LogisticRegression:\n",
    "\n",
    "    def __init__(self, eta=0.1, alpha=0):\n",
    "        \"\"\"\n",
    "        Create a logistic regression classifier\n",
    "        :param eta: Learning rate\n",
    "        :param alpha: We will use this parameter later (IN BONUS)\n",
    "        \"\"\"\n",
    "\n",
    "        self.w = None  # uninitialized w\n",
    "        self.eta = eta  # learning rate\n",
    "        self.alpha = alpha  # regularization / penalty term (USED IN BONUS)\n",
    "\n",
    "    def score(self, x):\n",
    "        \"\"\"\n",
    "        :param x: This can be a single training example or it could be n training examples\n",
    "        :return score: Calculate the score that you will plug into the logistic function\n",
    "        \"\"\"\n",
    "\n",
    "        # Workspace 2.1\n",
    "        # TO DO: Compute the score to be fed to the sigmoid function\n",
    "        # BEGIN\n",
    "        # code here\n",
    "\n",
    "        # x shape (n_features + 1) * n_batch\n",
    "#         if self.w is None:\n",
    "#             n_batch, n_features = x.shape\n",
    "#             self.w = np.random.randn(n_features, 1)  # 1 * (n_features+1)\n",
    "        score=np.dot(x,self.w)\n",
    "        return score\n",
    "        # END\n",
    "\n",
    "    def sigmoid(self, score, threshold=25.0):\n",
    "        \"\"\"\n",
    "        :param score: Either a real valued number or a vector to convert into a number between 0 and 1\n",
    "        :param threshold : Capping activations at 25 prevent overflow of np.exp() function.\n",
    "        return sigmoid function result.\n",
    "        :return sigmoid: Calculate the output of applying the sigmoid function to the score. This could be a single\n",
    "        value or a vector depending on the input.\n",
    "        \"\"\"\n",
    "        # Workspace 2.2\n",
    "        # TO DO: Complete this function to return the output of applying the sigmoid function to the score\n",
    "        # BEGIN\n",
    "        # code here\n",
    "        score = np.where(score > threshold, threshold, score)\n",
    "        score = np.where(score < -threshold, -threshold, score)\n",
    "        return 1 / (1 + np.exp(-1 * score))\n",
    "        # END\n",
    "\n",
    "    def compute_gradient(self, x, h, y):\n",
    "        \"\"\"\n",
    "        :param x: Feature vector\n",
    "        :param h: the sigmoid of the scores computed from x\n",
    "        :param y: real class label\n",
    "        :return gradient: Return the derivative of the cost w.r.t to the weights. Don't forget to average by batch_size\n",
    "        \"\"\"\n",
    "\n",
    "        # Workspace 2.3\n",
    "        # TO DO: Finish this function to compute the gradient\n",
    "        # BEGIN\n",
    "        # code here\n",
    "        dy = h - y\n",
    "        res = dy*x.T\n",
    "        dw = np.mean(res,axis=1) + 2 * self.alpha * np.linalg.norm(self.w, 1)\n",
    "        return dw\n",
    "        # END\n",
    "\n",
    "    def batch_update(self, batch_x, batch_y):\n",
    "        \"\"\"\n",
    "        Single self.w update using the batch.\n",
    "        :param batch_x: NumPy array of features (includes the constant feature at position 0)\n",
    "        :param batch_y: Numpy array of target values (size : size of batch )\n",
    "        :return: nothing\n",
    "        \"\"\"\n",
    "\n",
    "        # Workspace 2.4\n",
    "        # BEGIN\n",
    "        # code here\n",
    "        batch_h = self.sigmoid(self.score(batch_x))\n",
    "        grads = self.compute_gradient(batch_x, batch_h, batch_y)\n",
    "        self.w = self.w - self.eta * grads\n",
    "        # END\n",
    "\n",
    "    def fit(self, X, y, epochs=1, batch_size=1, validation_X=None, validation_y=None):\n",
    "        \"\"\"\n",
    "        :param X: training features\n",
    "        :param y: training labels\n",
    "        :param epochs: number of epochs\n",
    "        :param batch_size: size of batch for gradient update\n",
    "        :param validation_X: validation rows, should default to training data if not provided\n",
    "        :param validation_y: validation labels\n",
    "        :return: metric value at the end of each epoch on validation data\n",
    "        \"\"\"\n",
    "\n",
    "        \n",
    "        if validation_X is None:\n",
    "            validation_X, validation_y = X, y\n",
    "        metrics = []\n",
    "        # Workspace  2.5\n",
    "        # TO DO: Process x to append the zero-th constant column and call self.optimize\n",
    "        # TO DO: Compute average recall on the validation data at the end of each apoch\n",
    "        # HINT: make sure to initialize w only once since fit might be called several times\n",
    "        # BEGIN\n",
    "        # code here\n",
    "        X = np.concatenate([np.ones((X.shape[0], 1)), X], axis=1)\n",
    "        if self.w is None:\n",
    "            n_batch, n_features = X.shape\n",
    "            self.w = np.random.randn(n_features)  # 1 * (n_features+1)\n",
    "        for i in range(epochs):\n",
    "            #print(\"[Train] epoch {}/{}...\".format(i+1, epochs))\n",
    "            self.optimize(X, y, batch_size)\n",
    "            pred_res = self.predict(validation_X)\n",
    "            recall_s = recall_score(validation_y, pred_res)\n",
    "            metrics.append(recall_s)\n",
    "            #print(\"[Val] epoch {}/{}... recall score:{}\".format(i+1, epochs, recall_s))\n",
    "        # END\n",
    "        return np.array(metrics)\n",
    "\n",
    "    def predict(self, test_x):\n",
    "        \"\"\"\n",
    "        :param test_x: n rows to predict on\n",
    "        :return: n predicted labels\n",
    "        \"\"\"\n",
    "        X = np.concatenate([np.ones((test_x.shape[0], 1)), test_x], axis=1)\n",
    "        res = np.round(self.sigmoid(self.score(X)))\n",
    "        return res.astype(int)\n",
    "\n",
    "    def optimize(self, X, y, batch_size):\n",
    "        \"\"\"\n",
    "        Perform one epoch batch gradient on shuffled data\n",
    "        :param X: The training data  with zero-th column\n",
    "        :param y: target values\n",
    "        :param batch_size: batch_size of the batch_update\n",
    "        :return: None\n",
    "        \"\"\"\n",
    "        indices = np.random.permutation(len(X))\n",
    "        for i in range(0, X.shape[0], batch_size):\n",
    "            batch_x = X[indices[i:i + batch_size]]\n",
    "            batch_y = y[indices[i:i + batch_size]]\n",
    "            self.batch_update(batch_x, batch_y)\n",
    "\n",
    "    def get_sigmoid_score(self, test_x):\n",
    "\n",
    "        X = np.concatenate([np.ones((test_x.shape[0], 1)), test_x], axis=1)\n",
    "        sigmoid_score = self.sigmoid(self.score(X))\n",
    "        return sigmoid_score"
   ]
  },
  {
   "cell_type": "code",
   "execution_count": 545,
   "metadata": {
    "deletable": false,
    "editable": false,
    "nbgrader": {
     "cell_type": "code",
     "checksum": "f98e34f2c24f0503ded48e8ab26ac7dc",
     "grade": true,
     "grade_id": "logreg_test",
     "locked": true,
     "points": 17.5,
     "schema_version": 3,
     "solution": false,
     "task": false
    }
   },
   "outputs": [],
   "source": [
    "# test cell, do no remove"
   ]
  },
  {
   "cell_type": "markdown",
   "metadata": {
    "deletable": false,
    "editable": false,
    "nbgrader": {
     "cell_type": "markdown",
     "checksum": "594da6f92db91c59840d8e66a99978df",
     "grade": false,
     "grade_id": "q_2_6",
     "locked": true,
     "schema_version": 3,
     "solution": false,
     "task": false
    }
   },
   "source": [
    "After completing the class above, loop over the training data and perform batch training with `batch_size=1`for 10 epochs,\n",
    "and five different values of eta range [.0001, .01, .1, .5, 1]. Train your model and do the following:\n",
    "\n",
    "- 2.6 *[5 points]* Create a new classifier object and Using the `fit` method, plot the recall trend for the different values of eta\n",
    "on the training data. (reset random seed for each loop to mitigate the randomness effect)"
   ]
  },
  {
   "cell_type": "code",
   "execution_count": 546,
   "metadata": {
    "deletable": false,
    "nbgrader": {
     "cell_type": "code",
     "checksum": "c3d430129e5155f455157c429a8c25c3",
     "grade": true,
     "grade_id": "a2_6",
     "locked": false,
     "points": 5,
     "schema_version": 3,
     "solution": true,
     "task": false
    },
    "pycharm": {
     "name": "#%%\n"
    }
   },
   "outputs": [
    {
     "name": "stdout",
     "output_type": "stream",
     "text": [
      "-----------using learning rate:0.0001----------\n",
      "recall_list= [0.483 0.487 0.5   0.52  0.535 0.551 0.567 0.588 0.61  0.626]\n",
      "--------------------end--------------------\n",
      "-----------using learning rate:0.001----------\n",
      "recall_list= [0.617 0.762 0.828 0.864 0.88  0.893 0.907 0.91  0.912 0.919]\n",
      "--------------------end--------------------\n",
      "-----------using learning rate:0.01----------\n",
      "recall_list= [0.907 0.944 0.948 0.96  0.968 0.97  0.97  0.969 0.971 0.975]\n",
      "--------------------end--------------------\n",
      "-----------using learning rate:1----------\n",
      "recall_list= [0.984 0.956 0.992 0.904 0.975 0.999 0.96  0.988 0.977 0.999]\n",
      "--------------------end--------------------\n",
      "-----------using learning rate:5----------\n",
      "recall_list= [0.988 0.974 0.977 0.969 0.986 1.    0.992 0.889 0.986 0.992]\n",
      "--------------------end--------------------\n"
     ]
    },
    {
     "data": {
      "image/png": "[encoded data removed]",
      "text/plain": [
       "<Figure size 720x360 with 1 Axes>"
      ]
     },
     "metadata": {
      "needs_background": "light"
     },
     "output_type": "display_data"
    }
   ],
   "source": [
    "etas = [.0001,.001,.01, 1, 5]\n",
    "\n",
    "plt.figure(figsize=(10, 5))\n",
    "etas = [.0001, .001, .01, 1, 5]\n",
    "x = np.arange(1,11)\n",
    "for eta in etas:\n",
    "    print(f\"-----------using learning rate:{eta}----------\")\n",
    "    bm = BinaryMNIST()\n",
    "    np.random.seed(42)  # Reset randomness\n",
    "    # Workspace 2.6\n",
    "    # BEGIN\n",
    "    # code here\n",
    "    lr = LogisticRegression(eta=eta)\n",
    "    recall_list = lr.fit(X=bm.train_x,\n",
    "                         y=bm.train_y,\n",
    "                         batch_size=1,\n",
    "                         epochs=10,\n",
    "                         validation_X=bm.train_x,\n",
    "                         validation_y=bm.train_y)\n",
    "    print(\"recall_list=\",recall_list)\n",
    "    print(\"--------------------end--------------------\")\n",
    "    plt.plot(x, recall_list)\n",
    "    # END\n",
    "plt.xlabel('Epoch')\n",
    "plt.ylabel('Training Recall Score')\n",
    "plt.legend(['learning rate:'+str(eta) for eta in etas])\n",
    "plt.show()"
   ]
  },
  {
   "cell_type": "markdown",
   "metadata": {
    "deletable": false,
    "editable": false,
    "nbgrader": {
     "cell_type": "markdown",
     "checksum": "58f18af52fb0d1e5b8233c70501c81bf",
     "grade": false,
     "grade_id": "q2_7",
     "locked": true,
     "schema_version": 3,
     "solution": false,
     "task": false
    }
   },
   "source": [
    "- 2.7 *[2.5 points]* Create a new classifier object and Using the `fit` method, plot the recall on the test data as function eta.\n",
    "(reset random seed for each loop to mitigate the randomness effect)"
   ]
  },
  {
   "cell_type": "code",
   "execution_count": 547,
   "metadata": {
    "deletable": false,
    "nbgrader": {
     "cell_type": "code",
     "checksum": "5f06c3d4807dea4730d08080ee1b9f01",
     "grade": true,
     "grade_id": "a_2_7",
     "locked": false,
     "points": 2.5,
     "schema_version": 3,
     "solution": true,
     "task": false
    },
    "pycharm": {
     "name": "#%%\n"
    }
   },
   "outputs": [
    {
     "name": "stdout",
     "output_type": "stream",
     "text": [
      "-----------using learning rate:0.0001----------\n",
      "recall_list= [0.424 0.428 0.44  0.456 0.484 0.516 0.56  0.584 0.592 0.608]\n",
      "--------------------end--------------------\n",
      "-----------using learning rate:0.001----------\n",
      "recall_list= [0.604 0.78  0.82  0.86  0.892 0.9   0.908 0.908 0.912 0.912]\n",
      "--------------------end--------------------\n",
      "-----------using learning rate:0.01----------\n",
      "recall_list= [0.912 0.928 0.932 0.948 0.964 0.964 0.96  0.956 0.968 0.968]\n",
      "--------------------end--------------------\n",
      "-----------using learning rate:1----------\n",
      "recall_list= [0.984 0.932 0.98  0.836 0.976 1.    0.94  0.984 0.972 0.996]\n",
      "--------------------end--------------------\n",
      "-----------using learning rate:5----------\n",
      "recall_list= [0.996 0.976 0.968 0.92  0.968 1.    0.988 0.844 0.98  0.988]\n",
      "--------------------end--------------------\n"
     ]
    },
    {
     "data": {
      "image/png": "[encoded data removed]",
      "text/plain": [
       "<Figure size 720x360 with 1 Axes>"
      ]
     },
     "metadata": {
      "needs_background": "light"
     },
     "output_type": "display_data"
    }
   ],
   "source": [
    "etas = [.0001,.001,.01, 1, 5]\n",
    "\n",
    "plt.figure(figsize=(10, 5))\n",
    "etas = [.0001, .001, .01, 1, 5]\n",
    "x = np.arange(1,11)\n",
    "for eta in etas:\n",
    "    print(f\"-----------using learning rate:{eta}----------\")\n",
    "    bm = BinaryMNIST()\n",
    "    np.random.seed(42)  # Reset randomness\n",
    "    # Workspace 2.6\n",
    "    # BEGIN\n",
    "    # code here\n",
    "    lr = LogisticRegression(eta=eta)\n",
    "    recall_list = lr.fit(X=bm.train_x,\n",
    "                         y=bm.train_y,\n",
    "                         batch_size=1,\n",
    "                         epochs=10,\n",
    "                         validation_X=bm.test_x,\n",
    "                         validation_y=bm.test_y)\n",
    "    print(\"recall_list=\",recall_list)\n",
    "    print(\"--------------------end--------------------\")\n",
    "    plt.plot(x, recall_list)\n",
    "    # END\n",
    "plt.xlabel('Epoch')\n",
    "plt.ylabel('Test Recall Score')\n",
    "plt.legend(['learning rate:'+str(eta) for eta in etas])\n",
    "plt.show()"
   ]
  },
  {
   "cell_type": "markdown",
   "metadata": {
    "deletable": false,
    "editable": false,
    "nbgrader": {
     "cell_type": "markdown",
     "checksum": "c5a6bbb794aba57089e8a483417abc85",
     "grade": false,
     "grade_id": "q_2_8",
     "locked": true,
     "schema_version": 3,
     "solution": false,
     "task": false
    }
   },
   "source": [
    "This time we want to analyze the effect of varying the batch size. We fix `eta=0.1` and `epochs=10` and we want to\n",
    "examine the recall on the test set at the end of the training for `batch_size` in [1, 2, 4, 8, 12, 16].\n",
    "\n",
    "2.8 *[5 points]* Produce a plot of the recall at the end of the training as a function of the batch size. Reset the random generator before each you compute the recalls for each batch size.\n"
   ]
  },
  {
   "cell_type": "code",
   "execution_count": 548,
   "metadata": {
    "deletable": false,
    "nbgrader": {
     "cell_type": "code",
     "checksum": "4c6e0a505bc2649ef9b3899f59bf1447",
     "grade": true,
     "grade_id": "a_2_8",
     "locked": false,
     "points": 5,
     "schema_version": 3,
     "solution": true,
     "task": false
    },
    "pycharm": {
     "name": "#%%\n"
    }
   },
   "outputs": [
    {
     "name": "stdout",
     "output_type": "stream",
     "text": [
      "-----------using batch size:1----------\n",
      "recall_list [0.98  0.972 0.976 0.96  0.98  1.    0.972 0.96  0.972 0.968]\n",
      "--------------------end--------------------\n",
      "-----------using batch size:2----------\n",
      "recall_list [0.98  0.968 0.972 0.968 0.976 0.984 0.972 0.968 0.972 0.972]\n",
      "--------------------end--------------------\n",
      "-----------using batch size:4----------\n",
      "recall_list [0.948 0.956 0.956 0.968 0.972 0.976 0.968 0.968 0.972 0.972]\n",
      "--------------------end--------------------\n",
      "-----------using batch size:8----------\n",
      "recall_list [0.916 0.944 0.944 0.956 0.964 0.968 0.968 0.968 0.968 0.968]\n",
      "--------------------end--------------------\n",
      "-----------using batch size:12----------\n",
      "recall_list [0.9   0.92  0.92  0.952 0.956 0.964 0.956 0.952 0.96  0.968]\n",
      "--------------------end--------------------\n",
      "-----------using batch size:16----------\n",
      "recall_list [0.88  0.92  0.916 0.944 0.956 0.956 0.948 0.948 0.952 0.96 ]\n",
      "--------------------end--------------------\n"
     ]
    },
    {
     "data": {
      "image/png": "[encoded data removed]",
      "text/plain": [
       "<Figure size 720x360 with 1 Axes>"
      ]
     },
     "metadata": {
      "needs_background": "light"
     },
     "output_type": "display_data"
    }
   ],
   "source": [
    "batch_sizes= [1, 2, 4, 8, 12, 16]\n",
    "recalls = []\n",
    "\n",
    "plt.figure(figsize=(10, 5))\n",
    "\n",
    "x = np.arange(1,11)\n",
    "for bs in batch_sizes:\n",
    "    print(f\"-----------using batch size:{bs}----------\")\n",
    "    bm = BinaryMNIST()\n",
    "    np.random.seed(42)  # Reset randomness\n",
    "    # Workspace 2.6\n",
    "    # BEGIN\n",
    "    # code here\n",
    "    lr = LogisticRegression(eta=0.1)\n",
    "    recall_list = lr.fit(X=bm.train_x,\n",
    "                         y=bm.train_y,\n",
    "                         batch_size=bs,\n",
    "                         epochs=10,\n",
    "                         validation_X=bm.test_x,\n",
    "                         validation_y=bm.test_y)\n",
    "    print(\"recall_list\",recall_list)\n",
    "    print(\"--------------------end--------------------\")\n",
    "    plt.plot(x, recall_list)\n",
    "    # END\n",
    "plt.xlabel('Epoch')\n",
    "plt.ylabel('Training Recall Score')\n",
    "plt.legend(['Batch size:'+str(bs) for bs in batch_sizes])\n",
    "plt.show()"
   ]
  },
  {
   "cell_type": "markdown",
   "metadata": {
    "deletable": false,
    "editable": false,
    "nbgrader": {
     "cell_type": "markdown",
     "checksum": "39a9086fa990a52f8198609b442741ac",
     "grade": false,
     "grade_id": "q_2_9",
     "locked": true,
     "schema_version": 3,
     "solution": false,
     "task": false
    }
   },
   "source": [
    "2.9 *[5 points]* How does the learning rate (eta) and the number of epochs in the performance of the classifier."
   ]
  },
  {
   "cell_type": "markdown",
   "metadata": {
    "deletable": false,
    "nbgrader": {
     "cell_type": "markdown",
     "checksum": "49a07864fcf990929ad5ffcd14c872c0",
     "grade": true,
     "grade_id": "a_2_9",
     "locked": false,
     "points": 5,
     "schema_version": 3,
     "solution": true,
     "task": false
    }
   },
   "source": [
    "% Workspace 2.9\n",
    "\n",
    "Base on the graph above, when learning rate is very small, recall value will also be samll(compare to recall with large learning rate) It is because the learning rate is too samll, compare with large learning rate, it is more diffcult for the model to learn stuff from the data.  \n",
    "Therefore,  as the learning rate increases, the recall value would also increase and goes close to 1.  When learning rate is too large, the model will likely to fail to converge. If the learning rate is too small, the convergence process will be very slow(the model will less likely to learn stuff from the model).  \n",
    "For epoch, if the epoch is too large, it is easy for the model to overfitting, which makes the model have too much deviation. If epoch is too small, it is easy to underfitting and cannot fit the test set.\n"
   ]
  },
  {
   "cell_type": "markdown",
   "metadata": {
    "deletable": false,
    "editable": false,
    "nbgrader": {
     "cell_type": "markdown",
     "checksum": "cceefe20cd2b68163ec8e7c7a63c6a33",
     "grade": false,
     "grade_id": "q2_10",
     "locked": true,
     "schema_version": 3,
     "solution": false,
     "task": false
    },
    "pycharm": {
     "name": "#%% md\n"
    }
   },
   "source": [
    "2.10 (Bonus) *[5 points]* Since we're done with the binary regression, we will try to add Ridge regularization:\n",
    "\\begin{align}\n",
    "\\textrm{NLL}(w) = -\\frac{1}{N}\\sum_{i=1}^N \\left[y_i \\log \\sigma(\\mathbf{w}^T{x_i}) + (1-y_i)\\log(1 - \\sigma(\\mathbf{w}^Tx_i))\\right] + \\alpha {||\\mathbf{w}||^2}_{\\geq1}\n",
    "\\end{align}\n",
    "\n",
    "This is exactly what we will be using the `alpha` parameter in `LogisticRegression` for.\n",
    "First, write the gradient formula in the cell below and edit your `compute_gradient` to account for the regularization term. Note that the regularization $||w||^2$ does not apply to the intercept $\\mathbf{w}_0$"
   ]
  },
  {
   "cell_type": "markdown",
   "metadata": {
    "deletable": false,
    "nbgrader": {
     "cell_type": "markdown",
     "checksum": "f344ec39a4729b4902e3738db5e6ddbf",
     "grade": true,
     "grade_id": "a2_10",
     "locked": false,
     "points": 5,
     "schema_version": 3,
     "solution": true,
     "task": false
    }
   },
   "source": [
    "% Workspace 2.10\n",
    "\n",
    "\\begin{align}\n",
    "\\frac{\\partial \\textrm{NLL}}{\\partial \\mathbf{w}} = \\frac{1}{N} \\sum_i \\left[\\sigma(\\mathbf{w}^Tx_i)-y_i)\\right]x_i + 2\\alpha ||\\mathbf{w}||_{\\geq1}\n",
    "\\end{align}\n",
    "\n",
    "Code applied at `compute_gradient` function above.\n",
    "\n"
   ]
  },
  {
   "cell_type": "markdown",
   "metadata": {
    "deletable": false,
    "editable": false,
    "nbgrader": {
     "cell_type": "markdown",
     "checksum": "4f8d02ef4c9ed919cde0ce25de97e809",
     "grade": false,
     "grade_id": "cell-2b53d5d40987324e",
     "locked": true,
     "schema_version": 3,
     "solution": false,
     "task": false
    }
   },
   "source": [
    "## Problem 3: Logistic Regression for Multiclass Classification (25)\n",
    "\n",
    "You will now create a classifier that is commonly referred to as _One Versus All_ Logistic Regression,\n",
    "where a binary classifier will be trained to identify a single class. The prediction is performed by assigning the label\n",
    "of the classifier that is most confident in its prediction (the highest score).\n",
    "\n",
    "The dataset will be a restricted version of the MNIST dataset which digits 3,7,8,9. You are free to use the functions you created above as needed."
   ]
  },
  {
   "cell_type": "code",
   "execution_count": 549,
   "metadata": {
    "deletable": false,
    "editable": false,
    "nbgrader": {
     "cell_type": "code",
     "checksum": "d9d96ef081f3bc7e1f216debe14c5b39",
     "grade": false,
     "grade_id": "mnist",
     "locked": true,
     "schema_version": 3,
     "solution": false,
     "task": false
    },
    "pycharm": {
     "name": "#%%\n"
    }
   },
   "outputs": [],
   "source": [
    "class MNIST:\n",
    "    \"\"\"\n",
    "    Class to store MNIST data for images of 3,7,8,9\n",
    "    \"\"\"\n",
    "    def __init__(self, location=\"data/mnist.pklz\"):\n",
    "        # You shouldn't have to modify this class\n",
    "        # Load the dataset\n",
    "        with gzip.open(location, 'rb') as f:\n",
    "            self.train_x, self.train_y, self.test_x, self.test_y = pickle.load(f)\n",
    "mnist = MNIST()"
   ]
  },
  {
   "cell_type": "markdown",
   "metadata": {
    "deletable": false,
    "editable": false,
    "nbgrader": {
     "cell_type": "markdown",
     "checksum": "98ed5f14f6f2eabe44f322a259c8d98a",
     "grade": false,
     "grade_id": "questions3",
     "locked": true,
     "schema_version": 3,
     "solution": false,
     "task": false
    },
    "pycharm": {
     "name": "#%% md\n"
    }
   },
   "source": [
    "- 3.1 *[2.5 points]* Complete `one_hot_encoding`to transform your integer labels into a set of binary features via one-hot encoding.\n",
    "* 3.2 *[2.5 points]* Complete `normalize_data` to normalize your features. You can use `StandardScaler`\n",
    "* 3.3 *[5 points]* Complete `predict` method to return the predicted label using the scores from each class classifier\n",
    "* 3.4 *[2.5 points]* Complete `evaluate` to return the weighted average recall (WAR) on the validation data (use `recall_score`)\n",
    "* 3.5 *[5 points]* Complete `fit` function to fit all 4 classifiers with their corresponding labels and compute the WAR at the end of each epoch"
   ]
  },
  {
   "cell_type": "code",
   "execution_count": 550,
   "metadata": {
    "deletable": false,
    "nbgrader": {
     "cell_type": "code",
     "checksum": "23995cea88c99657c23451bcd35d804b",
     "grade": false,
     "grade_id": "ova_code",
     "locked": false,
     "schema_version": 3,
     "solution": true,
     "task": false
    },
    "pycharm": {
     "name": "#%%\n"
    }
   },
   "outputs": [],
   "source": [
    "class OneVersusAll(object):\n",
    "\n",
    "    def __init__(self, eta=0.1, alpha=0):\n",
    "        self.eta = eta  # Learning Rate\n",
    "        self.classifiers = []  # Array of LogisticRegression classifiers\n",
    "        self.label_to_index = {3: 0, 7: 1, 8: 2, 9: 3}  # dictionary mapping MNIST labels to array indices 0 - 3\n",
    "        self.index_to_label = {v: k for k, v in self.label_to_index.items()}  # dictionary mapping array indices 0 - 3\n",
    "        # to MNIST labels\n",
    "        self.alpha = alpha  # regularization / penalty rate (USED IN BONUS)\n",
    "        self.scaler = StandardScaler()\n",
    "        self.fitted = False  # Flag to store wether the model is already fitted to avoid fitting scaler more than once\n",
    "\n",
    "    def one_hot_encoding(self, y):\n",
    "        one_hot_encode = []\n",
    "        # Workspace 3.1\n",
    "        # TO DO: Represent the output vector y as a one hot encoding. Create a matrix of dimensions (m X 4)\n",
    "        # where m = number of examples, and 4 for number of classes\n",
    "        # if the class for the ith example is 7, then y[i][label_to_index[7]] = 1 and the for k != 1, y[i][k] = 0.\n",
    "        # BEGIN\n",
    "        # code here\n",
    "        one_hot_encode = [[0]*4 for _ in range(y.shape[0])]\n",
    "        for i in range(y.shape[0]):\n",
    "            one_hot_encode[i][self.label_to_index[y[i]]] = 1\n",
    "        # END\n",
    "        return np.array(one_hot_encode)\n",
    "\n",
    "    def normalize_data(self, X):\n",
    "        \"\"\"\n",
    "        Fit scaler if it hasn't been done yet and normalize X\n",
    "        :param X: Raw features.\n",
    "        :return: Normalized feautures\n",
    "        \"\"\"\n",
    "        # Workspace 3.2\n",
    "        # TO DO: Normalize the feature values of dataset X, you have to keep track of the mean and variance\n",
    "        # BEGIN\n",
    "        # code here\n",
    "        X = self.scaler.fit_transform(X)\n",
    "        # END\n",
    "        return X\n",
    "\n",
    "    def predict(self, test_x):\n",
    "\n",
    "        # Workspace 3.3\n",
    "        # TO DO: Normalize test_x, process it and return the predicted label using the scores from classifiers\n",
    "        # BEGIN\n",
    "        # code here\n",
    "        res = []\n",
    "        test_x = self.normalize_data(test_x)\n",
    "        for model in self.classifiers:\n",
    "            res.append(model.get_sigmoid_score(test_x))\n",
    "        res = np.array(res).reshape((-1, 4))\n",
    "        pred = np.argmax(res, axis=1)\n",
    "        for i in range(pred.shape[0]):\n",
    "            pred[i] = self.index_to_label[pred[i]]\n",
    "\n",
    "        return pred  # n_samples * 1\n",
    "        # END\n",
    "\n",
    "    def evaluate(self, test_x, test_y):\n",
    "\n",
    "        # Workspace 3.4\n",
    "        # BEGIN\n",
    "        # code here\n",
    "        preds = self.predict(test_x)\n",
    "        recall_s = (4-1)*recall_score(preds, test_y, average='weighted')\n",
    "        # END\n",
    "        return recall_s\n",
    "\n",
    "    def fit(self, X, y, batch_size=12, epochs=10, validation_X=None, validation_y=None):\n",
    "        metrics = []\n",
    "        val_metrics = []\n",
    "        if validation_X is None:\n",
    "            validation_X, validation_y = X, y\n",
    "        # Workspace 3.5\n",
    "        # TO DO: Compute Weighted Average Recall at the end of each epoch\n",
    "        # TO DO: Process training data and use it to fit self.classifiers and compute the metrics every epoch\n",
    "        # BEGIN\n",
    "        # code here\n",
    "        ori_y = y\n",
    "\n",
    "        X = self.normalize_data(X)\n",
    "        y = self.one_hot_encoding(y)\n",
    "\n",
    "\n",
    "        for i in range(4):\n",
    "            model = LogisticRegression(alpha=0)\n",
    "            self.classifiers.append(model)\n",
    "\n",
    "        for epoch in range(epochs):\n",
    "            #print(\"[OVA Train] epoch {}/{}...\".format(epoch+1, epochs))\n",
    "            # training\n",
    "            for i, model in enumerate(self.classifiers):\n",
    "                this_target = y[:, i]\n",
    "                model.fit(X, this_target, epochs=1, batch_size=batch_size)\n",
    "            # eval\n",
    "            train_recall = self.evaluate(X, ori_y)\n",
    "            metrics.append(train_recall)\n",
    "\n",
    "            eval_recall = self.evaluate(validation_X, validation_y)\n",
    "            val_metrics.append(eval_recall)\n",
    "            #print(\"[OVA Val] epoch {}/{}... WAR score:{}\".format(epoch+1, epochs, train_recall))\n",
    "\n",
    "        # END\n",
    "        return metrics, val_metrics\n"
   ]
  },
  {
   "cell_type": "code",
   "execution_count": 551,
   "metadata": {
    "deletable": false,
    "editable": false,
    "nbgrader": {
     "cell_type": "code",
     "checksum": "3d51c67f1ad098fe815bc7acf7714f78",
     "grade": true,
     "grade_id": "ova_test1",
     "locked": true,
     "points": 17.5,
     "schema_version": 3,
     "solution": false,
     "task": false
    },
    "pycharm": {
     "name": "#%%\n"
    }
   },
   "outputs": [],
   "source": [
    "# This cell will be used for tests\n",
    "# Do not remove"
   ]
  },
  {
   "cell_type": "markdown",
   "metadata": {
    "deletable": false,
    "editable": false,
    "nbgrader": {
     "cell_type": "markdown",
     "checksum": "de50e24afb5090f3e49f52b85c68121f",
     "grade": false,
     "grade_id": "q_3_6",
     "locked": true,
     "schema_version": 3,
     "solution": false,
     "task": false
    },
    "pycharm": {
     "name": "#%% md\n"
    }
   },
   "source": [
    "- 3.6 *[5 points]* Train `OneVersusAll` for 36 epochs using eta=0.1 and batch_size = 12. In the same figure, plot:\n",
    "    - The WAR metric on the mnist training data at the end of each epoch\n",
    "    - The WAR metric on the mnist test data at the end of each epoch\n",
    "\n",
    "You might need to adapt LogisticRegression so that fit method can be called multiple times without\n",
    "losing the weights from previous batch gradients.\n",
    "\n",
    "For a fair comparison, call `np.random.seed(42)` before each `fit` to reset the random generator."
   ]
  },
  {
   "cell_type": "code",
   "execution_count": 552,
   "metadata": {
    "deletable": false,
    "nbgrader": {
     "cell_type": "code",
     "checksum": "1314b3c1f786789851a461bfcaebe9cb",
     "grade": true,
     "grade_id": "a_3_6",
     "locked": false,
     "points": 5,
     "schema_version": 3,
     "solution": true,
     "task": false
    },
    "pycharm": {
     "name": "#%%\n"
    }
   },
   "outputs": [
    {
     "data": {
      "image/png": "[encoded data removed]",
      "text/plain": [
       "<Figure size 720x360 with 1 Axes>"
      ]
     },
     "metadata": {
      "needs_background": "light"
     },
     "output_type": "display_data"
    }
   ],
   "source": [
    "epochs = 36\n",
    "eta = 0.1\n",
    "batch_size = 12\n",
    "# Workspace 3.6\n",
    "#BEGIN \n",
    "#code here\n",
    "mnist = MNIST()\n",
    "import warnings\n",
    "warnings.filterwarnings('ignore')\n",
    "lr = OneVersusAll(alpha=0)\n",
    "plt.figure(figsize=(10, 5))\n",
    "np.random.seed(42)\n",
    "x = np.arange(1, 37)\n",
    "WAR_train, WAR_test = lr.fit(X=mnist.train_x,\n",
    "                             y=mnist.train_y,\n",
    "                             batch_size=batch_size,\n",
    "                             epochs=epochs,\n",
    "                             validation_X=mnist.test_x,\n",
    "                             validation_y=mnist.test_y)\n",
    "plt.plot(x, WAR_train)\n",
    "plt.plot(x, WAR_test)\n",
    "    # END\n",
    "plt.xlabel('Epoch')\n",
    "plt.ylabel('Recall Score')\n",
    "plt.legend(['Training WAR', 'Test WAR'])\n",
    "plt.show()\n",
    "#END"
   ]
  },
  {
   "cell_type": "markdown",
   "metadata": {
    "deletable": false,
    "editable": false,
    "nbgrader": {
     "cell_type": "markdown",
     "checksum": "391bea81bf432810cbeee1cb9933b7bb",
     "grade": false,
     "grade_id": "q_3_7",
     "locked": true,
     "schema_version": 3,
     "solution": false,
     "task": false
    },
    "pycharm": {
     "name": "#%% md\n"
    }
   },
   "source": [
    "- 3.7 *[2.5 points]* Does the WAR improve as we train for more epochs on the two data partitions (train, test)? Why?"
   ]
  },
  {
   "cell_type": "markdown",
   "metadata": {
    "deletable": false,
    "nbgrader": {
     "cell_type": "markdown",
     "checksum": "e376c912c019ca91a65b534c47361cfe",
     "grade": true,
     "grade_id": "a_3_7",
     "locked": false,
     "points": 2.5,
     "schema_version": 3,
     "solution": true,
     "task": false
    },
    "pycharm": {
     "name": "#%%\n"
    }
   },
   "source": [
    "% Workspace 3.7\n",
    "\n",
    "At the beginning, as the epoch increases, the WAR of the training set and the test set starts to increase, and gradually tend to fit; but as the epoch increases, the training set gradually tends to overfitting. Although the WAR of the training set is still overall increasing, the WAR of the test set WAR starts to overall decreasing."
   ]
  },
  {
   "cell_type": "markdown",
   "metadata": {
    "deletable": false,
    "editable": false,
    "nbgrader": {
     "cell_type": "markdown",
     "checksum": "aec118dc6a65fcfad0edbbba156e155b",
     "grade": false,
     "grade_id": "q_3_8",
     "locked": true,
     "schema_version": 3,
     "solution": false,
     "task": false
    }
   },
   "source": [
    "- 3.8 (Bonus)*[5 points]* Repeat 3.6 and 3.7 using Ridge regularization for the LogisticRegression classifiers with alpha=1. How does the regularization affect the performance on train VS test sets?\n",
    "\n",
    "You have to answer 2.10 before you attempt this question."
   ]
  },
  {
   "cell_type": "code",
   "execution_count": 553,
   "metadata": {
    "deletable": false,
    "nbgrader": {
     "cell_type": "code",
     "checksum": "b4ab4714bb8fdb5a27cc9aa4f552e0d1",
     "grade": true,
     "grade_id": "a_3_8_a",
     "locked": false,
     "points": 2.5,
     "schema_version": 3,
     "solution": true,
     "task": false
    },
    "pycharm": {
     "name": "#%%\n"
    }
   },
   "outputs": [
    {
     "data": {
      "image/png": "[encoded data removed]",
      "text/plain": [
       "<Figure size 720x360 with 1 Axes>"
      ]
     },
     "metadata": {
      "needs_background": "light"
     },
     "output_type": "display_data"
    }
   ],
   "source": [
    "epochs = 36\n",
    "eta = 0.1\n",
    "batch_size = 12\n",
    "alpha = 1.0\n",
    "# Workspace 3.8 (code)\n",
    "#BEGIN \n",
    "#code here\n",
    "mnist = MNIST()\n",
    "import warnings\n",
    "warnings.filterwarnings('ignore')\n",
    "lr = OneVersusAll(alpha=alpha)\n",
    "plt.figure(figsize=(10, 5))\n",
    "np.random.seed(42)\n",
    "x = np.arange(1, 37)\n",
    "WAR_train, WAR_test = lr.fit(X=mnist.train_x,\n",
    "                             y=mnist.train_y,\n",
    "                             batch_size=batch_size,\n",
    "                             epochs=epochs,\n",
    "                             validation_X=mnist.test_x,\n",
    "                             validation_y=mnist.test_y)\n",
    "plt.plot(x, WAR_train)\n",
    "plt.plot(x, WAR_test)\n",
    "    # END\n",
    "plt.xlabel('Epoch')\n",
    "plt.ylabel('Recall Score')\n",
    "plt.legend(['Training WAR', 'Test WAR'])\n",
    "plt.show()\n",
    "#END\n"
   ]
  },
  {
   "cell_type": "markdown",
   "metadata": {
    "deletable": false,
    "nbgrader": {
     "cell_type": "markdown",
     "checksum": "04ab9667a91bb0fd53a8a1cdc7c3dbfe",
     "grade": true,
     "grade_id": "a3_8_b",
     "locked": false,
     "points": 2.5,
     "schema_version": 3,
     "solution": true,
     "task": false
    }
   },
   "source": [
    "% Workspace 3.8 (write up)\n",
    "\n",
    "After adding Ridge regularization, the performance of the model in the test set becomes better, and it effectively improves the generalization performance of the model."
   ]
  },
  {
   "cell_type": "code",
   "execution_count": null,
   "metadata": {},
   "outputs": [],
   "source": []
  }
 ],
 "metadata": {
  "kernelspec": {
   "display_name": "Python 3",
   "language": "python",
   "name": "python3"
  },
  "language_info": {
   "codemirror_mode": {
    "name": "ipython",
    "version": 3
   },
   "file_extension": ".py",
   "mimetype": "text/x-python",
   "name": "python",
   "nbconvert_exporter": "python",
   "pygments_lexer": "ipython3",
   "version": "3.7.5"
  }
 },
 "nbformat": 4,
 "nbformat_minor": 2
}
